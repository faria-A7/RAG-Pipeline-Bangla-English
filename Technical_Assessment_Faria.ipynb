{
  "nbformat": 4,
  "nbformat_minor": 0,
  "metadata": {
    "colab": {
      "provenance": []
    },
    "kernelspec": {
      "name": "python3",
      "display_name": "Python 3"
    },
    "language_info": {
      "name": "python"
    },
    "widgets": {
      "application/vnd.jupyter.widget-state+json": {
        "e9302a0cf663444b9ed5c39bcc2ea147": {
          "model_module": "@jupyter-widgets/controls",
          "model_name": "HBoxModel",
          "model_module_version": "1.5.0",
          "state": {
            "_dom_classes": [],
            "_model_module": "@jupyter-widgets/controls",
            "_model_module_version": "1.5.0",
            "_model_name": "HBoxModel",
            "_view_count": null,
            "_view_module": "@jupyter-widgets/controls",
            "_view_module_version": "1.5.0",
            "_view_name": "HBoxView",
            "box_style": "",
            "children": [
              "IPY_MODEL_847c806de6bb48c895bd3643889945f3",
              "IPY_MODEL_806856f02cb147c598b2ae4b54beba5e",
              "IPY_MODEL_ba5a6c6977694f67888df4fb6d78f301"
            ],
            "layout": "IPY_MODEL_dc41b8cc53db42a792732abb05e9b1d1"
          }
        },
        "847c806de6bb48c895bd3643889945f3": {
          "model_module": "@jupyter-widgets/controls",
          "model_name": "HTMLModel",
          "model_module_version": "1.5.0",
          "state": {
            "_dom_classes": [],
            "_model_module": "@jupyter-widgets/controls",
            "_model_module_version": "1.5.0",
            "_model_name": "HTMLModel",
            "_view_count": null,
            "_view_module": "@jupyter-widgets/controls",
            "_view_module_version": "1.5.0",
            "_view_name": "HTMLView",
            "description": "",
            "description_tooltip": null,
            "layout": "IPY_MODEL_ce1ef89bc80f4bcfb19d80ce48e835bd",
            "placeholder": "​",
            "style": "IPY_MODEL_1ad096414f164ee89ee439ad0bdf3be1",
            "value": "config.json: 100%"
          }
        },
        "806856f02cb147c598b2ae4b54beba5e": {
          "model_module": "@jupyter-widgets/controls",
          "model_name": "FloatProgressModel",
          "model_module_version": "1.5.0",
          "state": {
            "_dom_classes": [],
            "_model_module": "@jupyter-widgets/controls",
            "_model_module_version": "1.5.0",
            "_model_name": "FloatProgressModel",
            "_view_count": null,
            "_view_module": "@jupyter-widgets/controls",
            "_view_module_version": "1.5.0",
            "_view_name": "ProgressView",
            "bar_style": "success",
            "description": "",
            "description_tooltip": null,
            "layout": "IPY_MODEL_fb19bd35eca04b8b944d77542c6bbacc",
            "max": 586,
            "min": 0,
            "orientation": "horizontal",
            "style": "IPY_MODEL_95d095a0217c46db8c093fa0b43e544b",
            "value": 586
          }
        },
        "ba5a6c6977694f67888df4fb6d78f301": {
          "model_module": "@jupyter-widgets/controls",
          "model_name": "HTMLModel",
          "model_module_version": "1.5.0",
          "state": {
            "_dom_classes": [],
            "_model_module": "@jupyter-widgets/controls",
            "_model_module_version": "1.5.0",
            "_model_name": "HTMLModel",
            "_view_count": null,
            "_view_module": "@jupyter-widgets/controls",
            "_view_module_version": "1.5.0",
            "_view_name": "HTMLView",
            "description": "",
            "description_tooltip": null,
            "layout": "IPY_MODEL_5d8b0e52b83a46de93ba7e54cf9b6f46",
            "placeholder": "​",
            "style": "IPY_MODEL_6e2680115204428f89932f2b36b4de93",
            "value": " 586/586 [00:00&lt;00:00, 32.3kB/s]"
          }
        },
        "dc41b8cc53db42a792732abb05e9b1d1": {
          "model_module": "@jupyter-widgets/base",
          "model_name": "LayoutModel",
          "model_module_version": "1.2.0",
          "state": {
            "_model_module": "@jupyter-widgets/base",
            "_model_module_version": "1.2.0",
            "_model_name": "LayoutModel",
            "_view_count": null,
            "_view_module": "@jupyter-widgets/base",
            "_view_module_version": "1.2.0",
            "_view_name": "LayoutView",
            "align_content": null,
            "align_items": null,
            "align_self": null,
            "border": null,
            "bottom": null,
            "display": null,
            "flex": null,
            "flex_flow": null,
            "grid_area": null,
            "grid_auto_columns": null,
            "grid_auto_flow": null,
            "grid_auto_rows": null,
            "grid_column": null,
            "grid_gap": null,
            "grid_row": null,
            "grid_template_areas": null,
            "grid_template_columns": null,
            "grid_template_rows": null,
            "height": null,
            "justify_content": null,
            "justify_items": null,
            "left": null,
            "margin": null,
            "max_height": null,
            "max_width": null,
            "min_height": null,
            "min_width": null,
            "object_fit": null,
            "object_position": null,
            "order": null,
            "overflow": null,
            "overflow_x": null,
            "overflow_y": null,
            "padding": null,
            "right": null,
            "top": null,
            "visibility": null,
            "width": null
          }
        },
        "ce1ef89bc80f4bcfb19d80ce48e835bd": {
          "model_module": "@jupyter-widgets/base",
          "model_name": "LayoutModel",
          "model_module_version": "1.2.0",
          "state": {
            "_model_module": "@jupyter-widgets/base",
            "_model_module_version": "1.2.0",
            "_model_name": "LayoutModel",
            "_view_count": null,
            "_view_module": "@jupyter-widgets/base",
            "_view_module_version": "1.2.0",
            "_view_name": "LayoutView",
            "align_content": null,
            "align_items": null,
            "align_self": null,
            "border": null,
            "bottom": null,
            "display": null,
            "flex": null,
            "flex_flow": null,
            "grid_area": null,
            "grid_auto_columns": null,
            "grid_auto_flow": null,
            "grid_auto_rows": null,
            "grid_column": null,
            "grid_gap": null,
            "grid_row": null,
            "grid_template_areas": null,
            "grid_template_columns": null,
            "grid_template_rows": null,
            "height": null,
            "justify_content": null,
            "justify_items": null,
            "left": null,
            "margin": null,
            "max_height": null,
            "max_width": null,
            "min_height": null,
            "min_width": null,
            "object_fit": null,
            "object_position": null,
            "order": null,
            "overflow": null,
            "overflow_x": null,
            "overflow_y": null,
            "padding": null,
            "right": null,
            "top": null,
            "visibility": null,
            "width": null
          }
        },
        "1ad096414f164ee89ee439ad0bdf3be1": {
          "model_module": "@jupyter-widgets/controls",
          "model_name": "DescriptionStyleModel",
          "model_module_version": "1.5.0",
          "state": {
            "_model_module": "@jupyter-widgets/controls",
            "_model_module_version": "1.5.0",
            "_model_name": "DescriptionStyleModel",
            "_view_count": null,
            "_view_module": "@jupyter-widgets/base",
            "_view_module_version": "1.2.0",
            "_view_name": "StyleView",
            "description_width": ""
          }
        },
        "fb19bd35eca04b8b944d77542c6bbacc": {
          "model_module": "@jupyter-widgets/base",
          "model_name": "LayoutModel",
          "model_module_version": "1.2.0",
          "state": {
            "_model_module": "@jupyter-widgets/base",
            "_model_module_version": "1.2.0",
            "_model_name": "LayoutModel",
            "_view_count": null,
            "_view_module": "@jupyter-widgets/base",
            "_view_module_version": "1.2.0",
            "_view_name": "LayoutView",
            "align_content": null,
            "align_items": null,
            "align_self": null,
            "border": null,
            "bottom": null,
            "display": null,
            "flex": null,
            "flex_flow": null,
            "grid_area": null,
            "grid_auto_columns": null,
            "grid_auto_flow": null,
            "grid_auto_rows": null,
            "grid_column": null,
            "grid_gap": null,
            "grid_row": null,
            "grid_template_areas": null,
            "grid_template_columns": null,
            "grid_template_rows": null,
            "height": null,
            "justify_content": null,
            "justify_items": null,
            "left": null,
            "margin": null,
            "max_height": null,
            "max_width": null,
            "min_height": null,
            "min_width": null,
            "object_fit": null,
            "object_position": null,
            "order": null,
            "overflow": null,
            "overflow_x": null,
            "overflow_y": null,
            "padding": null,
            "right": null,
            "top": null,
            "visibility": null,
            "width": null
          }
        },
        "95d095a0217c46db8c093fa0b43e544b": {
          "model_module": "@jupyter-widgets/controls",
          "model_name": "ProgressStyleModel",
          "model_module_version": "1.5.0",
          "state": {
            "_model_module": "@jupyter-widgets/controls",
            "_model_module_version": "1.5.0",
            "_model_name": "ProgressStyleModel",
            "_view_count": null,
            "_view_module": "@jupyter-widgets/base",
            "_view_module_version": "1.2.0",
            "_view_name": "StyleView",
            "bar_color": null,
            "description_width": ""
          }
        },
        "5d8b0e52b83a46de93ba7e54cf9b6f46": {
          "model_module": "@jupyter-widgets/base",
          "model_name": "LayoutModel",
          "model_module_version": "1.2.0",
          "state": {
            "_model_module": "@jupyter-widgets/base",
            "_model_module_version": "1.2.0",
            "_model_name": "LayoutModel",
            "_view_count": null,
            "_view_module": "@jupyter-widgets/base",
            "_view_module_version": "1.2.0",
            "_view_name": "LayoutView",
            "align_content": null,
            "align_items": null,
            "align_self": null,
            "border": null,
            "bottom": null,
            "display": null,
            "flex": null,
            "flex_flow": null,
            "grid_area": null,
            "grid_auto_columns": null,
            "grid_auto_flow": null,
            "grid_auto_rows": null,
            "grid_column": null,
            "grid_gap": null,
            "grid_row": null,
            "grid_template_areas": null,
            "grid_template_columns": null,
            "grid_template_rows": null,
            "height": null,
            "justify_content": null,
            "justify_items": null,
            "left": null,
            "margin": null,
            "max_height": null,
            "max_width": null,
            "min_height": null,
            "min_width": null,
            "object_fit": null,
            "object_position": null,
            "order": null,
            "overflow": null,
            "overflow_x": null,
            "overflow_y": null,
            "padding": null,
            "right": null,
            "top": null,
            "visibility": null,
            "width": null
          }
        },
        "6e2680115204428f89932f2b36b4de93": {
          "model_module": "@jupyter-widgets/controls",
          "model_name": "DescriptionStyleModel",
          "model_module_version": "1.5.0",
          "state": {
            "_model_module": "@jupyter-widgets/controls",
            "_model_module_version": "1.5.0",
            "_model_name": "DescriptionStyleModel",
            "_view_count": null,
            "_view_module": "@jupyter-widgets/base",
            "_view_module_version": "1.2.0",
            "_view_name": "StyleView",
            "description_width": ""
          }
        },
        "29fc29b953684af3878e31744333c83b": {
          "model_module": "@jupyter-widgets/controls",
          "model_name": "HBoxModel",
          "model_module_version": "1.5.0",
          "state": {
            "_dom_classes": [],
            "_model_module": "@jupyter-widgets/controls",
            "_model_module_version": "1.5.0",
            "_model_name": "HBoxModel",
            "_view_count": null,
            "_view_module": "@jupyter-widgets/controls",
            "_view_module_version": "1.5.0",
            "_view_name": "HBoxView",
            "box_style": "",
            "children": [
              "IPY_MODEL_5256a86b2ecd4e3c9be64b0be8fe9f34",
              "IPY_MODEL_b301977a10ec47fab7ba62cf543f49a4",
              "IPY_MODEL_9d42580d23e24492a3d0eb87470cf51f"
            ],
            "layout": "IPY_MODEL_84402990546d4422ba8ecd6dbb2397db"
          }
        },
        "5256a86b2ecd4e3c9be64b0be8fe9f34": {
          "model_module": "@jupyter-widgets/controls",
          "model_name": "HTMLModel",
          "model_module_version": "1.5.0",
          "state": {
            "_dom_classes": [],
            "_model_module": "@jupyter-widgets/controls",
            "_model_module_version": "1.5.0",
            "_model_name": "HTMLModel",
            "_view_count": null,
            "_view_module": "@jupyter-widgets/controls",
            "_view_module_version": "1.5.0",
            "_view_name": "HTMLView",
            "description": "",
            "description_tooltip": null,
            "layout": "IPY_MODEL_819daf1311ca4a83acc032f0c65dc12f",
            "placeholder": "​",
            "style": "IPY_MODEL_4405f28e8e734c019154109274be8a19",
            "value": "pytorch_model.bin: 100%"
          }
        },
        "b301977a10ec47fab7ba62cf543f49a4": {
          "model_module": "@jupyter-widgets/controls",
          "model_name": "FloatProgressModel",
          "model_module_version": "1.5.0",
          "state": {
            "_dom_classes": [],
            "_model_module": "@jupyter-widgets/controls",
            "_model_module_version": "1.5.0",
            "_model_name": "FloatProgressModel",
            "_view_count": null,
            "_view_module": "@jupyter-widgets/controls",
            "_view_module_version": "1.5.0",
            "_view_name": "ProgressView",
            "bar_style": "success",
            "description": "",
            "description_tooltip": null,
            "layout": "IPY_MODEL_c8627b157ce9401989a0d2d14458970c",
            "max": 442560329,
            "min": 0,
            "orientation": "horizontal",
            "style": "IPY_MODEL_71322083833747c28920f073302462e5",
            "value": 442560329
          }
        },
        "9d42580d23e24492a3d0eb87470cf51f": {
          "model_module": "@jupyter-widgets/controls",
          "model_name": "HTMLModel",
          "model_module_version": "1.5.0",
          "state": {
            "_dom_classes": [],
            "_model_module": "@jupyter-widgets/controls",
            "_model_module_version": "1.5.0",
            "_model_name": "HTMLModel",
            "_view_count": null,
            "_view_module": "@jupyter-widgets/controls",
            "_view_module_version": "1.5.0",
            "_view_name": "HTMLView",
            "description": "",
            "description_tooltip": null,
            "layout": "IPY_MODEL_ef78f1195d1d4d8782dca322bc4be729",
            "placeholder": "​",
            "style": "IPY_MODEL_5f5be5b5d4ad4912aba807131c7e30cf",
            "value": " 443M/443M [00:06&lt;00:00, 42.0MB/s]"
          }
        },
        "84402990546d4422ba8ecd6dbb2397db": {
          "model_module": "@jupyter-widgets/base",
          "model_name": "LayoutModel",
          "model_module_version": "1.2.0",
          "state": {
            "_model_module": "@jupyter-widgets/base",
            "_model_module_version": "1.2.0",
            "_model_name": "LayoutModel",
            "_view_count": null,
            "_view_module": "@jupyter-widgets/base",
            "_view_module_version": "1.2.0",
            "_view_name": "LayoutView",
            "align_content": null,
            "align_items": null,
            "align_self": null,
            "border": null,
            "bottom": null,
            "display": null,
            "flex": null,
            "flex_flow": null,
            "grid_area": null,
            "grid_auto_columns": null,
            "grid_auto_flow": null,
            "grid_auto_rows": null,
            "grid_column": null,
            "grid_gap": null,
            "grid_row": null,
            "grid_template_areas": null,
            "grid_template_columns": null,
            "grid_template_rows": null,
            "height": null,
            "justify_content": null,
            "justify_items": null,
            "left": null,
            "margin": null,
            "max_height": null,
            "max_width": null,
            "min_height": null,
            "min_width": null,
            "object_fit": null,
            "object_position": null,
            "order": null,
            "overflow": null,
            "overflow_x": null,
            "overflow_y": null,
            "padding": null,
            "right": null,
            "top": null,
            "visibility": null,
            "width": null
          }
        },
        "819daf1311ca4a83acc032f0c65dc12f": {
          "model_module": "@jupyter-widgets/base",
          "model_name": "LayoutModel",
          "model_module_version": "1.2.0",
          "state": {
            "_model_module": "@jupyter-widgets/base",
            "_model_module_version": "1.2.0",
            "_model_name": "LayoutModel",
            "_view_count": null,
            "_view_module": "@jupyter-widgets/base",
            "_view_module_version": "1.2.0",
            "_view_name": "LayoutView",
            "align_content": null,
            "align_items": null,
            "align_self": null,
            "border": null,
            "bottom": null,
            "display": null,
            "flex": null,
            "flex_flow": null,
            "grid_area": null,
            "grid_auto_columns": null,
            "grid_auto_flow": null,
            "grid_auto_rows": null,
            "grid_column": null,
            "grid_gap": null,
            "grid_row": null,
            "grid_template_areas": null,
            "grid_template_columns": null,
            "grid_template_rows": null,
            "height": null,
            "justify_content": null,
            "justify_items": null,
            "left": null,
            "margin": null,
            "max_height": null,
            "max_width": null,
            "min_height": null,
            "min_width": null,
            "object_fit": null,
            "object_position": null,
            "order": null,
            "overflow": null,
            "overflow_x": null,
            "overflow_y": null,
            "padding": null,
            "right": null,
            "top": null,
            "visibility": null,
            "width": null
          }
        },
        "4405f28e8e734c019154109274be8a19": {
          "model_module": "@jupyter-widgets/controls",
          "model_name": "DescriptionStyleModel",
          "model_module_version": "1.5.0",
          "state": {
            "_model_module": "@jupyter-widgets/controls",
            "_model_module_version": "1.5.0",
            "_model_name": "DescriptionStyleModel",
            "_view_count": null,
            "_view_module": "@jupyter-widgets/base",
            "_view_module_version": "1.2.0",
            "_view_name": "StyleView",
            "description_width": ""
          }
        },
        "c8627b157ce9401989a0d2d14458970c": {
          "model_module": "@jupyter-widgets/base",
          "model_name": "LayoutModel",
          "model_module_version": "1.2.0",
          "state": {
            "_model_module": "@jupyter-widgets/base",
            "_model_module_version": "1.2.0",
            "_model_name": "LayoutModel",
            "_view_count": null,
            "_view_module": "@jupyter-widgets/base",
            "_view_module_version": "1.2.0",
            "_view_name": "LayoutView",
            "align_content": null,
            "align_items": null,
            "align_self": null,
            "border": null,
            "bottom": null,
            "display": null,
            "flex": null,
            "flex_flow": null,
            "grid_area": null,
            "grid_auto_columns": null,
            "grid_auto_flow": null,
            "grid_auto_rows": null,
            "grid_column": null,
            "grid_gap": null,
            "grid_row": null,
            "grid_template_areas": null,
            "grid_template_columns": null,
            "grid_template_rows": null,
            "height": null,
            "justify_content": null,
            "justify_items": null,
            "left": null,
            "margin": null,
            "max_height": null,
            "max_width": null,
            "min_height": null,
            "min_width": null,
            "object_fit": null,
            "object_position": null,
            "order": null,
            "overflow": null,
            "overflow_x": null,
            "overflow_y": null,
            "padding": null,
            "right": null,
            "top": null,
            "visibility": null,
            "width": null
          }
        },
        "71322083833747c28920f073302462e5": {
          "model_module": "@jupyter-widgets/controls",
          "model_name": "ProgressStyleModel",
          "model_module_version": "1.5.0",
          "state": {
            "_model_module": "@jupyter-widgets/controls",
            "_model_module_version": "1.5.0",
            "_model_name": "ProgressStyleModel",
            "_view_count": null,
            "_view_module": "@jupyter-widgets/base",
            "_view_module_version": "1.2.0",
            "_view_name": "StyleView",
            "bar_color": null,
            "description_width": ""
          }
        },
        "ef78f1195d1d4d8782dca322bc4be729": {
          "model_module": "@jupyter-widgets/base",
          "model_name": "LayoutModel",
          "model_module_version": "1.2.0",
          "state": {
            "_model_module": "@jupyter-widgets/base",
            "_model_module_version": "1.2.0",
            "_model_name": "LayoutModel",
            "_view_count": null,
            "_view_module": "@jupyter-widgets/base",
            "_view_module_version": "1.2.0",
            "_view_name": "LayoutView",
            "align_content": null,
            "align_items": null,
            "align_self": null,
            "border": null,
            "bottom": null,
            "display": null,
            "flex": null,
            "flex_flow": null,
            "grid_area": null,
            "grid_auto_columns": null,
            "grid_auto_flow": null,
            "grid_auto_rows": null,
            "grid_column": null,
            "grid_gap": null,
            "grid_row": null,
            "grid_template_areas": null,
            "grid_template_columns": null,
            "grid_template_rows": null,
            "height": null,
            "justify_content": null,
            "justify_items": null,
            "left": null,
            "margin": null,
            "max_height": null,
            "max_width": null,
            "min_height": null,
            "min_width": null,
            "object_fit": null,
            "object_position": null,
            "order": null,
            "overflow": null,
            "overflow_x": null,
            "overflow_y": null,
            "padding": null,
            "right": null,
            "top": null,
            "visibility": null,
            "width": null
          }
        },
        "5f5be5b5d4ad4912aba807131c7e30cf": {
          "model_module": "@jupyter-widgets/controls",
          "model_name": "DescriptionStyleModel",
          "model_module_version": "1.5.0",
          "state": {
            "_model_module": "@jupyter-widgets/controls",
            "_model_module_version": "1.5.0",
            "_model_name": "DescriptionStyleModel",
            "_view_count": null,
            "_view_module": "@jupyter-widgets/base",
            "_view_module_version": "1.2.0",
            "_view_name": "StyleView",
            "description_width": ""
          }
        },
        "7ba264c88370474ead7ea289b4c7ee10": {
          "model_module": "@jupyter-widgets/controls",
          "model_name": "HBoxModel",
          "model_module_version": "1.5.0",
          "state": {
            "_dom_classes": [],
            "_model_module": "@jupyter-widgets/controls",
            "_model_module_version": "1.5.0",
            "_model_name": "HBoxModel",
            "_view_count": null,
            "_view_module": "@jupyter-widgets/controls",
            "_view_module_version": "1.5.0",
            "_view_name": "HBoxView",
            "box_style": "",
            "children": [
              "IPY_MODEL_29e61797b0c64133a2dd0ccde440bd0c",
              "IPY_MODEL_db8dba062e844191bcaa485daaec7c35",
              "IPY_MODEL_3cc8370e714141cdbd3638dfea092e6b"
            ],
            "layout": "IPY_MODEL_6db55b7238434566bef6319c8b2f575f"
          }
        },
        "29e61797b0c64133a2dd0ccde440bd0c": {
          "model_module": "@jupyter-widgets/controls",
          "model_name": "HTMLModel",
          "model_module_version": "1.5.0",
          "state": {
            "_dom_classes": [],
            "_model_module": "@jupyter-widgets/controls",
            "_model_module_version": "1.5.0",
            "_model_name": "HTMLModel",
            "_view_count": null,
            "_view_module": "@jupyter-widgets/controls",
            "_view_module_version": "1.5.0",
            "_view_name": "HTMLView",
            "description": "",
            "description_tooltip": null,
            "layout": "IPY_MODEL_d1b22463f30d4e6d9af13f875e930b4d",
            "placeholder": "​",
            "style": "IPY_MODEL_8da28d2e2e41448e88e76a421ddf3eff",
            "value": "model.safetensors: 100%"
          }
        },
        "db8dba062e844191bcaa485daaec7c35": {
          "model_module": "@jupyter-widgets/controls",
          "model_name": "FloatProgressModel",
          "model_module_version": "1.5.0",
          "state": {
            "_dom_classes": [],
            "_model_module": "@jupyter-widgets/controls",
            "_model_module_version": "1.5.0",
            "_model_name": "FloatProgressModel",
            "_view_count": null,
            "_view_module": "@jupyter-widgets/controls",
            "_view_module_version": "1.5.0",
            "_view_name": "ProgressView",
            "bar_style": "success",
            "description": "",
            "description_tooltip": null,
            "layout": "IPY_MODEL_031c6e2a15c04e1ca799bd23b6cf7819",
            "max": 442500860,
            "min": 0,
            "orientation": "horizontal",
            "style": "IPY_MODEL_e7567c33ec5b44cba0c4cc12eb6a4286",
            "value": 442500860
          }
        },
        "3cc8370e714141cdbd3638dfea092e6b": {
          "model_module": "@jupyter-widgets/controls",
          "model_name": "HTMLModel",
          "model_module_version": "1.5.0",
          "state": {
            "_dom_classes": [],
            "_model_module": "@jupyter-widgets/controls",
            "_model_module_version": "1.5.0",
            "_model_name": "HTMLModel",
            "_view_count": null,
            "_view_module": "@jupyter-widgets/controls",
            "_view_module_version": "1.5.0",
            "_view_name": "HTMLView",
            "description": "",
            "description_tooltip": null,
            "layout": "IPY_MODEL_7ecc6136b92d4639b5a8e6608f8bbe79",
            "placeholder": "​",
            "style": "IPY_MODEL_a9c718a1c8c940afae354cc3c8ac957e",
            "value": " 443M/443M [00:03&lt;00:00, 186MB/s]"
          }
        },
        "6db55b7238434566bef6319c8b2f575f": {
          "model_module": "@jupyter-widgets/base",
          "model_name": "LayoutModel",
          "model_module_version": "1.2.0",
          "state": {
            "_model_module": "@jupyter-widgets/base",
            "_model_module_version": "1.2.0",
            "_model_name": "LayoutModel",
            "_view_count": null,
            "_view_module": "@jupyter-widgets/base",
            "_view_module_version": "1.2.0",
            "_view_name": "LayoutView",
            "align_content": null,
            "align_items": null,
            "align_self": null,
            "border": null,
            "bottom": null,
            "display": null,
            "flex": null,
            "flex_flow": null,
            "grid_area": null,
            "grid_auto_columns": null,
            "grid_auto_flow": null,
            "grid_auto_rows": null,
            "grid_column": null,
            "grid_gap": null,
            "grid_row": null,
            "grid_template_areas": null,
            "grid_template_columns": null,
            "grid_template_rows": null,
            "height": null,
            "justify_content": null,
            "justify_items": null,
            "left": null,
            "margin": null,
            "max_height": null,
            "max_width": null,
            "min_height": null,
            "min_width": null,
            "object_fit": null,
            "object_position": null,
            "order": null,
            "overflow": null,
            "overflow_x": null,
            "overflow_y": null,
            "padding": null,
            "right": null,
            "top": null,
            "visibility": null,
            "width": null
          }
        },
        "d1b22463f30d4e6d9af13f875e930b4d": {
          "model_module": "@jupyter-widgets/base",
          "model_name": "LayoutModel",
          "model_module_version": "1.2.0",
          "state": {
            "_model_module": "@jupyter-widgets/base",
            "_model_module_version": "1.2.0",
            "_model_name": "LayoutModel",
            "_view_count": null,
            "_view_module": "@jupyter-widgets/base",
            "_view_module_version": "1.2.0",
            "_view_name": "LayoutView",
            "align_content": null,
            "align_items": null,
            "align_self": null,
            "border": null,
            "bottom": null,
            "display": null,
            "flex": null,
            "flex_flow": null,
            "grid_area": null,
            "grid_auto_columns": null,
            "grid_auto_flow": null,
            "grid_auto_rows": null,
            "grid_column": null,
            "grid_gap": null,
            "grid_row": null,
            "grid_template_areas": null,
            "grid_template_columns": null,
            "grid_template_rows": null,
            "height": null,
            "justify_content": null,
            "justify_items": null,
            "left": null,
            "margin": null,
            "max_height": null,
            "max_width": null,
            "min_height": null,
            "min_width": null,
            "object_fit": null,
            "object_position": null,
            "order": null,
            "overflow": null,
            "overflow_x": null,
            "overflow_y": null,
            "padding": null,
            "right": null,
            "top": null,
            "visibility": null,
            "width": null
          }
        },
        "8da28d2e2e41448e88e76a421ddf3eff": {
          "model_module": "@jupyter-widgets/controls",
          "model_name": "DescriptionStyleModel",
          "model_module_version": "1.5.0",
          "state": {
            "_model_module": "@jupyter-widgets/controls",
            "_model_module_version": "1.5.0",
            "_model_name": "DescriptionStyleModel",
            "_view_count": null,
            "_view_module": "@jupyter-widgets/base",
            "_view_module_version": "1.2.0",
            "_view_name": "StyleView",
            "description_width": ""
          }
        },
        "031c6e2a15c04e1ca799bd23b6cf7819": {
          "model_module": "@jupyter-widgets/base",
          "model_name": "LayoutModel",
          "model_module_version": "1.2.0",
          "state": {
            "_model_module": "@jupyter-widgets/base",
            "_model_module_version": "1.2.0",
            "_model_name": "LayoutModel",
            "_view_count": null,
            "_view_module": "@jupyter-widgets/base",
            "_view_module_version": "1.2.0",
            "_view_name": "LayoutView",
            "align_content": null,
            "align_items": null,
            "align_self": null,
            "border": null,
            "bottom": null,
            "display": null,
            "flex": null,
            "flex_flow": null,
            "grid_area": null,
            "grid_auto_columns": null,
            "grid_auto_flow": null,
            "grid_auto_rows": null,
            "grid_column": null,
            "grid_gap": null,
            "grid_row": null,
            "grid_template_areas": null,
            "grid_template_columns": null,
            "grid_template_rows": null,
            "height": null,
            "justify_content": null,
            "justify_items": null,
            "left": null,
            "margin": null,
            "max_height": null,
            "max_width": null,
            "min_height": null,
            "min_width": null,
            "object_fit": null,
            "object_position": null,
            "order": null,
            "overflow": null,
            "overflow_x": null,
            "overflow_y": null,
            "padding": null,
            "right": null,
            "top": null,
            "visibility": null,
            "width": null
          }
        },
        "e7567c33ec5b44cba0c4cc12eb6a4286": {
          "model_module": "@jupyter-widgets/controls",
          "model_name": "ProgressStyleModel",
          "model_module_version": "1.5.0",
          "state": {
            "_model_module": "@jupyter-widgets/controls",
            "_model_module_version": "1.5.0",
            "_model_name": "ProgressStyleModel",
            "_view_count": null,
            "_view_module": "@jupyter-widgets/base",
            "_view_module_version": "1.2.0",
            "_view_name": "StyleView",
            "bar_color": null,
            "description_width": ""
          }
        },
        "7ecc6136b92d4639b5a8e6608f8bbe79": {
          "model_module": "@jupyter-widgets/base",
          "model_name": "LayoutModel",
          "model_module_version": "1.2.0",
          "state": {
            "_model_module": "@jupyter-widgets/base",
            "_model_module_version": "1.2.0",
            "_model_name": "LayoutModel",
            "_view_count": null,
            "_view_module": "@jupyter-widgets/base",
            "_view_module_version": "1.2.0",
            "_view_name": "LayoutView",
            "align_content": null,
            "align_items": null,
            "align_self": null,
            "border": null,
            "bottom": null,
            "display": null,
            "flex": null,
            "flex_flow": null,
            "grid_area": null,
            "grid_auto_columns": null,
            "grid_auto_flow": null,
            "grid_auto_rows": null,
            "grid_column": null,
            "grid_gap": null,
            "grid_row": null,
            "grid_template_areas": null,
            "grid_template_columns": null,
            "grid_template_rows": null,
            "height": null,
            "justify_content": null,
            "justify_items": null,
            "left": null,
            "margin": null,
            "max_height": null,
            "max_width": null,
            "min_height": null,
            "min_width": null,
            "object_fit": null,
            "object_position": null,
            "order": null,
            "overflow": null,
            "overflow_x": null,
            "overflow_y": null,
            "padding": null,
            "right": null,
            "top": null,
            "visibility": null,
            "width": null
          }
        },
        "a9c718a1c8c940afae354cc3c8ac957e": {
          "model_module": "@jupyter-widgets/controls",
          "model_name": "DescriptionStyleModel",
          "model_module_version": "1.5.0",
          "state": {
            "_model_module": "@jupyter-widgets/controls",
            "_model_module_version": "1.5.0",
            "_model_name": "DescriptionStyleModel",
            "_view_count": null,
            "_view_module": "@jupyter-widgets/base",
            "_view_module_version": "1.2.0",
            "_view_name": "StyleView",
            "description_width": ""
          }
        },
        "cad30499f8f14a09a9a4147a7dad0bfc": {
          "model_module": "@jupyter-widgets/controls",
          "model_name": "HBoxModel",
          "model_module_version": "1.5.0",
          "state": {
            "_dom_classes": [],
            "_model_module": "@jupyter-widgets/controls",
            "_model_module_version": "1.5.0",
            "_model_name": "HBoxModel",
            "_view_count": null,
            "_view_module": "@jupyter-widgets/controls",
            "_view_module_version": "1.5.0",
            "_view_name": "HBoxView",
            "box_style": "",
            "children": [
              "IPY_MODEL_cc38bdec090e402d90c0df14c5b17d80",
              "IPY_MODEL_b7651deeb4424293a7bc811e057e4f12",
              "IPY_MODEL_02e22b6dc2064612949a2b4e559c1c7f"
            ],
            "layout": "IPY_MODEL_f5f830de7b234896bf09d1bc81e566b0"
          }
        },
        "cc38bdec090e402d90c0df14c5b17d80": {
          "model_module": "@jupyter-widgets/controls",
          "model_name": "HTMLModel",
          "model_module_version": "1.5.0",
          "state": {
            "_dom_classes": [],
            "_model_module": "@jupyter-widgets/controls",
            "_model_module_version": "1.5.0",
            "_model_name": "HTMLModel",
            "_view_count": null,
            "_view_module": "@jupyter-widgets/controls",
            "_view_module_version": "1.5.0",
            "_view_name": "HTMLView",
            "description": "",
            "description_tooltip": null,
            "layout": "IPY_MODEL_fa726081950f42e7aa32e66ac48f3b74",
            "placeholder": "​",
            "style": "IPY_MODEL_9f049c4d505949f9b01af62c766351ab",
            "value": "tokenizer_config.json: 100%"
          }
        },
        "b7651deeb4424293a7bc811e057e4f12": {
          "model_module": "@jupyter-widgets/controls",
          "model_name": "FloatProgressModel",
          "model_module_version": "1.5.0",
          "state": {
            "_dom_classes": [],
            "_model_module": "@jupyter-widgets/controls",
            "_model_module_version": "1.5.0",
            "_model_name": "FloatProgressModel",
            "_view_count": null,
            "_view_module": "@jupyter-widgets/controls",
            "_view_module_version": "1.5.0",
            "_view_name": "ProgressView",
            "bar_style": "success",
            "description": "",
            "description_tooltip": null,
            "layout": "IPY_MODEL_314885b1bc254b70abfbae0d314549c1",
            "max": 119,
            "min": 0,
            "orientation": "horizontal",
            "style": "IPY_MODEL_60b2887fc5104b23afa5e544274114ef",
            "value": 119
          }
        },
        "02e22b6dc2064612949a2b4e559c1c7f": {
          "model_module": "@jupyter-widgets/controls",
          "model_name": "HTMLModel",
          "model_module_version": "1.5.0",
          "state": {
            "_dom_classes": [],
            "_model_module": "@jupyter-widgets/controls",
            "_model_module_version": "1.5.0",
            "_model_name": "HTMLModel",
            "_view_count": null,
            "_view_module": "@jupyter-widgets/controls",
            "_view_module_version": "1.5.0",
            "_view_name": "HTMLView",
            "description": "",
            "description_tooltip": null,
            "layout": "IPY_MODEL_e656f2cad4684ce3a2b4dceac0ffca2a",
            "placeholder": "​",
            "style": "IPY_MODEL_be507deba988445d80d36bf39aa1795f",
            "value": " 119/119 [00:00&lt;00:00, 2.80kB/s]"
          }
        },
        "f5f830de7b234896bf09d1bc81e566b0": {
          "model_module": "@jupyter-widgets/base",
          "model_name": "LayoutModel",
          "model_module_version": "1.2.0",
          "state": {
            "_model_module": "@jupyter-widgets/base",
            "_model_module_version": "1.2.0",
            "_model_name": "LayoutModel",
            "_view_count": null,
            "_view_module": "@jupyter-widgets/base",
            "_view_module_version": "1.2.0",
            "_view_name": "LayoutView",
            "align_content": null,
            "align_items": null,
            "align_self": null,
            "border": null,
            "bottom": null,
            "display": null,
            "flex": null,
            "flex_flow": null,
            "grid_area": null,
            "grid_auto_columns": null,
            "grid_auto_flow": null,
            "grid_auto_rows": null,
            "grid_column": null,
            "grid_gap": null,
            "grid_row": null,
            "grid_template_areas": null,
            "grid_template_columns": null,
            "grid_template_rows": null,
            "height": null,
            "justify_content": null,
            "justify_items": null,
            "left": null,
            "margin": null,
            "max_height": null,
            "max_width": null,
            "min_height": null,
            "min_width": null,
            "object_fit": null,
            "object_position": null,
            "order": null,
            "overflow": null,
            "overflow_x": null,
            "overflow_y": null,
            "padding": null,
            "right": null,
            "top": null,
            "visibility": null,
            "width": null
          }
        },
        "fa726081950f42e7aa32e66ac48f3b74": {
          "model_module": "@jupyter-widgets/base",
          "model_name": "LayoutModel",
          "model_module_version": "1.2.0",
          "state": {
            "_model_module": "@jupyter-widgets/base",
            "_model_module_version": "1.2.0",
            "_model_name": "LayoutModel",
            "_view_count": null,
            "_view_module": "@jupyter-widgets/base",
            "_view_module_version": "1.2.0",
            "_view_name": "LayoutView",
            "align_content": null,
            "align_items": null,
            "align_self": null,
            "border": null,
            "bottom": null,
            "display": null,
            "flex": null,
            "flex_flow": null,
            "grid_area": null,
            "grid_auto_columns": null,
            "grid_auto_flow": null,
            "grid_auto_rows": null,
            "grid_column": null,
            "grid_gap": null,
            "grid_row": null,
            "grid_template_areas": null,
            "grid_template_columns": null,
            "grid_template_rows": null,
            "height": null,
            "justify_content": null,
            "justify_items": null,
            "left": null,
            "margin": null,
            "max_height": null,
            "max_width": null,
            "min_height": null,
            "min_width": null,
            "object_fit": null,
            "object_position": null,
            "order": null,
            "overflow": null,
            "overflow_x": null,
            "overflow_y": null,
            "padding": null,
            "right": null,
            "top": null,
            "visibility": null,
            "width": null
          }
        },
        "9f049c4d505949f9b01af62c766351ab": {
          "model_module": "@jupyter-widgets/controls",
          "model_name": "DescriptionStyleModel",
          "model_module_version": "1.5.0",
          "state": {
            "_model_module": "@jupyter-widgets/controls",
            "_model_module_version": "1.5.0",
            "_model_name": "DescriptionStyleModel",
            "_view_count": null,
            "_view_module": "@jupyter-widgets/base",
            "_view_module_version": "1.2.0",
            "_view_name": "StyleView",
            "description_width": ""
          }
        },
        "314885b1bc254b70abfbae0d314549c1": {
          "model_module": "@jupyter-widgets/base",
          "model_name": "LayoutModel",
          "model_module_version": "1.2.0",
          "state": {
            "_model_module": "@jupyter-widgets/base",
            "_model_module_version": "1.2.0",
            "_model_name": "LayoutModel",
            "_view_count": null,
            "_view_module": "@jupyter-widgets/base",
            "_view_module_version": "1.2.0",
            "_view_name": "LayoutView",
            "align_content": null,
            "align_items": null,
            "align_self": null,
            "border": null,
            "bottom": null,
            "display": null,
            "flex": null,
            "flex_flow": null,
            "grid_area": null,
            "grid_auto_columns": null,
            "grid_auto_flow": null,
            "grid_auto_rows": null,
            "grid_column": null,
            "grid_gap": null,
            "grid_row": null,
            "grid_template_areas": null,
            "grid_template_columns": null,
            "grid_template_rows": null,
            "height": null,
            "justify_content": null,
            "justify_items": null,
            "left": null,
            "margin": null,
            "max_height": null,
            "max_width": null,
            "min_height": null,
            "min_width": null,
            "object_fit": null,
            "object_position": null,
            "order": null,
            "overflow": null,
            "overflow_x": null,
            "overflow_y": null,
            "padding": null,
            "right": null,
            "top": null,
            "visibility": null,
            "width": null
          }
        },
        "60b2887fc5104b23afa5e544274114ef": {
          "model_module": "@jupyter-widgets/controls",
          "model_name": "ProgressStyleModel",
          "model_module_version": "1.5.0",
          "state": {
            "_model_module": "@jupyter-widgets/controls",
            "_model_module_version": "1.5.0",
            "_model_name": "ProgressStyleModel",
            "_view_count": null,
            "_view_module": "@jupyter-widgets/base",
            "_view_module_version": "1.2.0",
            "_view_name": "StyleView",
            "bar_color": null,
            "description_width": ""
          }
        },
        "e656f2cad4684ce3a2b4dceac0ffca2a": {
          "model_module": "@jupyter-widgets/base",
          "model_name": "LayoutModel",
          "model_module_version": "1.2.0",
          "state": {
            "_model_module": "@jupyter-widgets/base",
            "_model_module_version": "1.2.0",
            "_model_name": "LayoutModel",
            "_view_count": null,
            "_view_module": "@jupyter-widgets/base",
            "_view_module_version": "1.2.0",
            "_view_name": "LayoutView",
            "align_content": null,
            "align_items": null,
            "align_self": null,
            "border": null,
            "bottom": null,
            "display": null,
            "flex": null,
            "flex_flow": null,
            "grid_area": null,
            "grid_auto_columns": null,
            "grid_auto_flow": null,
            "grid_auto_rows": null,
            "grid_column": null,
            "grid_gap": null,
            "grid_row": null,
            "grid_template_areas": null,
            "grid_template_columns": null,
            "grid_template_rows": null,
            "height": null,
            "justify_content": null,
            "justify_items": null,
            "left": null,
            "margin": null,
            "max_height": null,
            "max_width": null,
            "min_height": null,
            "min_width": null,
            "object_fit": null,
            "object_position": null,
            "order": null,
            "overflow": null,
            "overflow_x": null,
            "overflow_y": null,
            "padding": null,
            "right": null,
            "top": null,
            "visibility": null,
            "width": null
          }
        },
        "be507deba988445d80d36bf39aa1795f": {
          "model_module": "@jupyter-widgets/controls",
          "model_name": "DescriptionStyleModel",
          "model_module_version": "1.5.0",
          "state": {
            "_model_module": "@jupyter-widgets/controls",
            "_model_module_version": "1.5.0",
            "_model_name": "DescriptionStyleModel",
            "_view_count": null,
            "_view_module": "@jupyter-widgets/base",
            "_view_module_version": "1.2.0",
            "_view_name": "StyleView",
            "description_width": ""
          }
        },
        "f0eacc10a5f04d969f6e550f942225fd": {
          "model_module": "@jupyter-widgets/controls",
          "model_name": "HBoxModel",
          "model_module_version": "1.5.0",
          "state": {
            "_dom_classes": [],
            "_model_module": "@jupyter-widgets/controls",
            "_model_module_version": "1.5.0",
            "_model_name": "HBoxModel",
            "_view_count": null,
            "_view_module": "@jupyter-widgets/controls",
            "_view_module_version": "1.5.0",
            "_view_name": "HBoxView",
            "box_style": "",
            "children": [
              "IPY_MODEL_d44bd320c16546b190a5b15c765c2eaf",
              "IPY_MODEL_5628eae697f54e548c8734bbe6ff2a2e",
              "IPY_MODEL_9d13ef17ac6a4f9c8772df1745eae390"
            ],
            "layout": "IPY_MODEL_6460dd4b1b224c86b583d553b029f040"
          }
        },
        "d44bd320c16546b190a5b15c765c2eaf": {
          "model_module": "@jupyter-widgets/controls",
          "model_name": "HTMLModel",
          "model_module_version": "1.5.0",
          "state": {
            "_dom_classes": [],
            "_model_module": "@jupyter-widgets/controls",
            "_model_module_version": "1.5.0",
            "_model_name": "HTMLModel",
            "_view_count": null,
            "_view_module": "@jupyter-widgets/controls",
            "_view_module_version": "1.5.0",
            "_view_name": "HTMLView",
            "description": "",
            "description_tooltip": null,
            "layout": "IPY_MODEL_4d19ab6ee98b41b19b956170d363f645",
            "placeholder": "​",
            "style": "IPY_MODEL_332d0073849545f99541778c129cfd29",
            "value": "vocab.txt: "
          }
        },
        "5628eae697f54e548c8734bbe6ff2a2e": {
          "model_module": "@jupyter-widgets/controls",
          "model_name": "FloatProgressModel",
          "model_module_version": "1.5.0",
          "state": {
            "_dom_classes": [],
            "_model_module": "@jupyter-widgets/controls",
            "_model_module_version": "1.5.0",
            "_model_name": "FloatProgressModel",
            "_view_count": null,
            "_view_module": "@jupyter-widgets/controls",
            "_view_module_version": "1.5.0",
            "_view_name": "ProgressView",
            "bar_style": "success",
            "description": "",
            "description_tooltip": null,
            "layout": "IPY_MODEL_82f8d1003dc9442ba319c1c83d47748d",
            "max": 1,
            "min": 0,
            "orientation": "horizontal",
            "style": "IPY_MODEL_d0c8f2faabe346758b069800a4867d1a",
            "value": 1
          }
        },
        "9d13ef17ac6a4f9c8772df1745eae390": {
          "model_module": "@jupyter-widgets/controls",
          "model_name": "HTMLModel",
          "model_module_version": "1.5.0",
          "state": {
            "_dom_classes": [],
            "_model_module": "@jupyter-widgets/controls",
            "_model_module_version": "1.5.0",
            "_model_name": "HTMLModel",
            "_view_count": null,
            "_view_module": "@jupyter-widgets/controls",
            "_view_module_version": "1.5.0",
            "_view_name": "HTMLView",
            "description": "",
            "description_tooltip": null,
            "layout": "IPY_MODEL_89c0d13f87254497a8e5f862f8c6b05b",
            "placeholder": "​",
            "style": "IPY_MODEL_706a262c3aef47588a45f363641f53bf",
            "value": " 528k/? [00:00&lt;00:00, 5.96MB/s]"
          }
        },
        "6460dd4b1b224c86b583d553b029f040": {
          "model_module": "@jupyter-widgets/base",
          "model_name": "LayoutModel",
          "model_module_version": "1.2.0",
          "state": {
            "_model_module": "@jupyter-widgets/base",
            "_model_module_version": "1.2.0",
            "_model_name": "LayoutModel",
            "_view_count": null,
            "_view_module": "@jupyter-widgets/base",
            "_view_module_version": "1.2.0",
            "_view_name": "LayoutView",
            "align_content": null,
            "align_items": null,
            "align_self": null,
            "border": null,
            "bottom": null,
            "display": null,
            "flex": null,
            "flex_flow": null,
            "grid_area": null,
            "grid_auto_columns": null,
            "grid_auto_flow": null,
            "grid_auto_rows": null,
            "grid_column": null,
            "grid_gap": null,
            "grid_row": null,
            "grid_template_areas": null,
            "grid_template_columns": null,
            "grid_template_rows": null,
            "height": null,
            "justify_content": null,
            "justify_items": null,
            "left": null,
            "margin": null,
            "max_height": null,
            "max_width": null,
            "min_height": null,
            "min_width": null,
            "object_fit": null,
            "object_position": null,
            "order": null,
            "overflow": null,
            "overflow_x": null,
            "overflow_y": null,
            "padding": null,
            "right": null,
            "top": null,
            "visibility": null,
            "width": null
          }
        },
        "4d19ab6ee98b41b19b956170d363f645": {
          "model_module": "@jupyter-widgets/base",
          "model_name": "LayoutModel",
          "model_module_version": "1.2.0",
          "state": {
            "_model_module": "@jupyter-widgets/base",
            "_model_module_version": "1.2.0",
            "_model_name": "LayoutModel",
            "_view_count": null,
            "_view_module": "@jupyter-widgets/base",
            "_view_module_version": "1.2.0",
            "_view_name": "LayoutView",
            "align_content": null,
            "align_items": null,
            "align_self": null,
            "border": null,
            "bottom": null,
            "display": null,
            "flex": null,
            "flex_flow": null,
            "grid_area": null,
            "grid_auto_columns": null,
            "grid_auto_flow": null,
            "grid_auto_rows": null,
            "grid_column": null,
            "grid_gap": null,
            "grid_row": null,
            "grid_template_areas": null,
            "grid_template_columns": null,
            "grid_template_rows": null,
            "height": null,
            "justify_content": null,
            "justify_items": null,
            "left": null,
            "margin": null,
            "max_height": null,
            "max_width": null,
            "min_height": null,
            "min_width": null,
            "object_fit": null,
            "object_position": null,
            "order": null,
            "overflow": null,
            "overflow_x": null,
            "overflow_y": null,
            "padding": null,
            "right": null,
            "top": null,
            "visibility": null,
            "width": null
          }
        },
        "332d0073849545f99541778c129cfd29": {
          "model_module": "@jupyter-widgets/controls",
          "model_name": "DescriptionStyleModel",
          "model_module_version": "1.5.0",
          "state": {
            "_model_module": "@jupyter-widgets/controls",
            "_model_module_version": "1.5.0",
            "_model_name": "DescriptionStyleModel",
            "_view_count": null,
            "_view_module": "@jupyter-widgets/base",
            "_view_module_version": "1.2.0",
            "_view_name": "StyleView",
            "description_width": ""
          }
        },
        "82f8d1003dc9442ba319c1c83d47748d": {
          "model_module": "@jupyter-widgets/base",
          "model_name": "LayoutModel",
          "model_module_version": "1.2.0",
          "state": {
            "_model_module": "@jupyter-widgets/base",
            "_model_module_version": "1.2.0",
            "_model_name": "LayoutModel",
            "_view_count": null,
            "_view_module": "@jupyter-widgets/base",
            "_view_module_version": "1.2.0",
            "_view_name": "LayoutView",
            "align_content": null,
            "align_items": null,
            "align_self": null,
            "border": null,
            "bottom": null,
            "display": null,
            "flex": null,
            "flex_flow": null,
            "grid_area": null,
            "grid_auto_columns": null,
            "grid_auto_flow": null,
            "grid_auto_rows": null,
            "grid_column": null,
            "grid_gap": null,
            "grid_row": null,
            "grid_template_areas": null,
            "grid_template_columns": null,
            "grid_template_rows": null,
            "height": null,
            "justify_content": null,
            "justify_items": null,
            "left": null,
            "margin": null,
            "max_height": null,
            "max_width": null,
            "min_height": null,
            "min_width": null,
            "object_fit": null,
            "object_position": null,
            "order": null,
            "overflow": null,
            "overflow_x": null,
            "overflow_y": null,
            "padding": null,
            "right": null,
            "top": null,
            "visibility": null,
            "width": "20px"
          }
        },
        "d0c8f2faabe346758b069800a4867d1a": {
          "model_module": "@jupyter-widgets/controls",
          "model_name": "ProgressStyleModel",
          "model_module_version": "1.5.0",
          "state": {
            "_model_module": "@jupyter-widgets/controls",
            "_model_module_version": "1.5.0",
            "_model_name": "ProgressStyleModel",
            "_view_count": null,
            "_view_module": "@jupyter-widgets/base",
            "_view_module_version": "1.2.0",
            "_view_name": "StyleView",
            "bar_color": null,
            "description_width": ""
          }
        },
        "89c0d13f87254497a8e5f862f8c6b05b": {
          "model_module": "@jupyter-widgets/base",
          "model_name": "LayoutModel",
          "model_module_version": "1.2.0",
          "state": {
            "_model_module": "@jupyter-widgets/base",
            "_model_module_version": "1.2.0",
            "_model_name": "LayoutModel",
            "_view_count": null,
            "_view_module": "@jupyter-widgets/base",
            "_view_module_version": "1.2.0",
            "_view_name": "LayoutView",
            "align_content": null,
            "align_items": null,
            "align_self": null,
            "border": null,
            "bottom": null,
            "display": null,
            "flex": null,
            "flex_flow": null,
            "grid_area": null,
            "grid_auto_columns": null,
            "grid_auto_flow": null,
            "grid_auto_rows": null,
            "grid_column": null,
            "grid_gap": null,
            "grid_row": null,
            "grid_template_areas": null,
            "grid_template_columns": null,
            "grid_template_rows": null,
            "height": null,
            "justify_content": null,
            "justify_items": null,
            "left": null,
            "margin": null,
            "max_height": null,
            "max_width": null,
            "min_height": null,
            "min_width": null,
            "object_fit": null,
            "object_position": null,
            "order": null,
            "overflow": null,
            "overflow_x": null,
            "overflow_y": null,
            "padding": null,
            "right": null,
            "top": null,
            "visibility": null,
            "width": null
          }
        },
        "706a262c3aef47588a45f363641f53bf": {
          "model_module": "@jupyter-widgets/controls",
          "model_name": "DescriptionStyleModel",
          "model_module_version": "1.5.0",
          "state": {
            "_model_module": "@jupyter-widgets/controls",
            "_model_module_version": "1.5.0",
            "_model_name": "DescriptionStyleModel",
            "_view_count": null,
            "_view_module": "@jupyter-widgets/base",
            "_view_module_version": "1.2.0",
            "_view_name": "StyleView",
            "description_width": ""
          }
        },
        "47331473c3de4876b7233ec84fd2a3f0": {
          "model_module": "@jupyter-widgets/controls",
          "model_name": "HBoxModel",
          "model_module_version": "1.5.0",
          "state": {
            "_dom_classes": [],
            "_model_module": "@jupyter-widgets/controls",
            "_model_module_version": "1.5.0",
            "_model_name": "HBoxModel",
            "_view_count": null,
            "_view_module": "@jupyter-widgets/controls",
            "_view_module_version": "1.5.0",
            "_view_name": "HBoxView",
            "box_style": "",
            "children": [
              "IPY_MODEL_c401f08cc759446591e04081f90e8e5c",
              "IPY_MODEL_840571caddd9493c9f88edc7fbac5206",
              "IPY_MODEL_c805b19c306e473baeeace40e3799c3f"
            ],
            "layout": "IPY_MODEL_b326e56481b547d19a1b57d992da9f52"
          }
        },
        "c401f08cc759446591e04081f90e8e5c": {
          "model_module": "@jupyter-widgets/controls",
          "model_name": "HTMLModel",
          "model_module_version": "1.5.0",
          "state": {
            "_dom_classes": [],
            "_model_module": "@jupyter-widgets/controls",
            "_model_module_version": "1.5.0",
            "_model_name": "HTMLModel",
            "_view_count": null,
            "_view_module": "@jupyter-widgets/controls",
            "_view_module_version": "1.5.0",
            "_view_name": "HTMLView",
            "description": "",
            "description_tooltip": null,
            "layout": "IPY_MODEL_eec1af85d52549b2ae40a6477ed6d65c",
            "placeholder": "​",
            "style": "IPY_MODEL_146bfb44c5e245278807082e8e561b62",
            "value": "special_tokens_map.json: 100%"
          }
        },
        "840571caddd9493c9f88edc7fbac5206": {
          "model_module": "@jupyter-widgets/controls",
          "model_name": "FloatProgressModel",
          "model_module_version": "1.5.0",
          "state": {
            "_dom_classes": [],
            "_model_module": "@jupyter-widgets/controls",
            "_model_module_version": "1.5.0",
            "_model_name": "FloatProgressModel",
            "_view_count": null,
            "_view_module": "@jupyter-widgets/controls",
            "_view_module_version": "1.5.0",
            "_view_name": "ProgressView",
            "bar_style": "success",
            "description": "",
            "description_tooltip": null,
            "layout": "IPY_MODEL_6c881a3c691d419a96e41c7b5f674e81",
            "max": 112,
            "min": 0,
            "orientation": "horizontal",
            "style": "IPY_MODEL_bc42b78698304dc3a2dfb33b4bdb9f9f",
            "value": 112
          }
        },
        "c805b19c306e473baeeace40e3799c3f": {
          "model_module": "@jupyter-widgets/controls",
          "model_name": "HTMLModel",
          "model_module_version": "1.5.0",
          "state": {
            "_dom_classes": [],
            "_model_module": "@jupyter-widgets/controls",
            "_model_module_version": "1.5.0",
            "_model_name": "HTMLModel",
            "_view_count": null,
            "_view_module": "@jupyter-widgets/controls",
            "_view_module_version": "1.5.0",
            "_view_name": "HTMLView",
            "description": "",
            "description_tooltip": null,
            "layout": "IPY_MODEL_ca58db1e664c43b8a337d6c1c8326fdd",
            "placeholder": "​",
            "style": "IPY_MODEL_a498bdf00fb04b5da14441ba36290417",
            "value": " 112/112 [00:00&lt;00:00, 3.52kB/s]"
          }
        },
        "b326e56481b547d19a1b57d992da9f52": {
          "model_module": "@jupyter-widgets/base",
          "model_name": "LayoutModel",
          "model_module_version": "1.2.0",
          "state": {
            "_model_module": "@jupyter-widgets/base",
            "_model_module_version": "1.2.0",
            "_model_name": "LayoutModel",
            "_view_count": null,
            "_view_module": "@jupyter-widgets/base",
            "_view_module_version": "1.2.0",
            "_view_name": "LayoutView",
            "align_content": null,
            "align_items": null,
            "align_self": null,
            "border": null,
            "bottom": null,
            "display": null,
            "flex": null,
            "flex_flow": null,
            "grid_area": null,
            "grid_auto_columns": null,
            "grid_auto_flow": null,
            "grid_auto_rows": null,
            "grid_column": null,
            "grid_gap": null,
            "grid_row": null,
            "grid_template_areas": null,
            "grid_template_columns": null,
            "grid_template_rows": null,
            "height": null,
            "justify_content": null,
            "justify_items": null,
            "left": null,
            "margin": null,
            "max_height": null,
            "max_width": null,
            "min_height": null,
            "min_width": null,
            "object_fit": null,
            "object_position": null,
            "order": null,
            "overflow": null,
            "overflow_x": null,
            "overflow_y": null,
            "padding": null,
            "right": null,
            "top": null,
            "visibility": null,
            "width": null
          }
        },
        "eec1af85d52549b2ae40a6477ed6d65c": {
          "model_module": "@jupyter-widgets/base",
          "model_name": "LayoutModel",
          "model_module_version": "1.2.0",
          "state": {
            "_model_module": "@jupyter-widgets/base",
            "_model_module_version": "1.2.0",
            "_model_name": "LayoutModel",
            "_view_count": null,
            "_view_module": "@jupyter-widgets/base",
            "_view_module_version": "1.2.0",
            "_view_name": "LayoutView",
            "align_content": null,
            "align_items": null,
            "align_self": null,
            "border": null,
            "bottom": null,
            "display": null,
            "flex": null,
            "flex_flow": null,
            "grid_area": null,
            "grid_auto_columns": null,
            "grid_auto_flow": null,
            "grid_auto_rows": null,
            "grid_column": null,
            "grid_gap": null,
            "grid_row": null,
            "grid_template_areas": null,
            "grid_template_columns": null,
            "grid_template_rows": null,
            "height": null,
            "justify_content": null,
            "justify_items": null,
            "left": null,
            "margin": null,
            "max_height": null,
            "max_width": null,
            "min_height": null,
            "min_width": null,
            "object_fit": null,
            "object_position": null,
            "order": null,
            "overflow": null,
            "overflow_x": null,
            "overflow_y": null,
            "padding": null,
            "right": null,
            "top": null,
            "visibility": null,
            "width": null
          }
        },
        "146bfb44c5e245278807082e8e561b62": {
          "model_module": "@jupyter-widgets/controls",
          "model_name": "DescriptionStyleModel",
          "model_module_version": "1.5.0",
          "state": {
            "_model_module": "@jupyter-widgets/controls",
            "_model_module_version": "1.5.0",
            "_model_name": "DescriptionStyleModel",
            "_view_count": null,
            "_view_module": "@jupyter-widgets/base",
            "_view_module_version": "1.2.0",
            "_view_name": "StyleView",
            "description_width": ""
          }
        },
        "6c881a3c691d419a96e41c7b5f674e81": {
          "model_module": "@jupyter-widgets/base",
          "model_name": "LayoutModel",
          "model_module_version": "1.2.0",
          "state": {
            "_model_module": "@jupyter-widgets/base",
            "_model_module_version": "1.2.0",
            "_model_name": "LayoutModel",
            "_view_count": null,
            "_view_module": "@jupyter-widgets/base",
            "_view_module_version": "1.2.0",
            "_view_name": "LayoutView",
            "align_content": null,
            "align_items": null,
            "align_self": null,
            "border": null,
            "bottom": null,
            "display": null,
            "flex": null,
            "flex_flow": null,
            "grid_area": null,
            "grid_auto_columns": null,
            "grid_auto_flow": null,
            "grid_auto_rows": null,
            "grid_column": null,
            "grid_gap": null,
            "grid_row": null,
            "grid_template_areas": null,
            "grid_template_columns": null,
            "grid_template_rows": null,
            "height": null,
            "justify_content": null,
            "justify_items": null,
            "left": null,
            "margin": null,
            "max_height": null,
            "max_width": null,
            "min_height": null,
            "min_width": null,
            "object_fit": null,
            "object_position": null,
            "order": null,
            "overflow": null,
            "overflow_x": null,
            "overflow_y": null,
            "padding": null,
            "right": null,
            "top": null,
            "visibility": null,
            "width": null
          }
        },
        "bc42b78698304dc3a2dfb33b4bdb9f9f": {
          "model_module": "@jupyter-widgets/controls",
          "model_name": "ProgressStyleModel",
          "model_module_version": "1.5.0",
          "state": {
            "_model_module": "@jupyter-widgets/controls",
            "_model_module_version": "1.5.0",
            "_model_name": "ProgressStyleModel",
            "_view_count": null,
            "_view_module": "@jupyter-widgets/base",
            "_view_module_version": "1.2.0",
            "_view_name": "StyleView",
            "bar_color": null,
            "description_width": ""
          }
        },
        "ca58db1e664c43b8a337d6c1c8326fdd": {
          "model_module": "@jupyter-widgets/base",
          "model_name": "LayoutModel",
          "model_module_version": "1.2.0",
          "state": {
            "_model_module": "@jupyter-widgets/base",
            "_model_module_version": "1.2.0",
            "_model_name": "LayoutModel",
            "_view_count": null,
            "_view_module": "@jupyter-widgets/base",
            "_view_module_version": "1.2.0",
            "_view_name": "LayoutView",
            "align_content": null,
            "align_items": null,
            "align_self": null,
            "border": null,
            "bottom": null,
            "display": null,
            "flex": null,
            "flex_flow": null,
            "grid_area": null,
            "grid_auto_columns": null,
            "grid_auto_flow": null,
            "grid_auto_rows": null,
            "grid_column": null,
            "grid_gap": null,
            "grid_row": null,
            "grid_template_areas": null,
            "grid_template_columns": null,
            "grid_template_rows": null,
            "height": null,
            "justify_content": null,
            "justify_items": null,
            "left": null,
            "margin": null,
            "max_height": null,
            "max_width": null,
            "min_height": null,
            "min_width": null,
            "object_fit": null,
            "object_position": null,
            "order": null,
            "overflow": null,
            "overflow_x": null,
            "overflow_y": null,
            "padding": null,
            "right": null,
            "top": null,
            "visibility": null,
            "width": null
          }
        },
        "a498bdf00fb04b5da14441ba36290417": {
          "model_module": "@jupyter-widgets/controls",
          "model_name": "DescriptionStyleModel",
          "model_module_version": "1.5.0",
          "state": {
            "_model_module": "@jupyter-widgets/controls",
            "_model_module_version": "1.5.0",
            "_model_name": "DescriptionStyleModel",
            "_view_count": null,
            "_view_module": "@jupyter-widgets/base",
            "_view_module_version": "1.2.0",
            "_view_name": "StyleView",
            "description_width": ""
          }
        }
      }
    }
  },
  "cells": [
    {
      "cell_type": "code",
      "execution_count": 5,
      "metadata": {
        "id": "2gntDV8yifZ7"
      },
      "outputs": [],
      "source": [
        "!pip install pdfplumber sentence-transformers faiss-cpu -q\n",
        "\n",
        "import pdfplumber\n",
        "import re\n",
        "from sentence_transformers import SentenceTransformer\n",
        "import faiss\n",
        "import numpy as np\n",
        "from transformers import pipeline"
      ]
    },
    {
      "cell_type": "markdown",
      "source": [
        "Upload the PDF file"
      ],
      "metadata": {
        "id": "qUolvElK4ztc"
      }
    },
    {
      "cell_type": "code",
      "source": [
        "from google.colab import files\n",
        "uploaded = files.upload()"
      ],
      "metadata": {
        "colab": {
          "base_uri": "https://localhost:8080/",
          "height": 72
        },
        "id": "BNUpAAh3lsqf",
        "outputId": "dc8bc283-d1f0-410d-a0af-533ca1785faf"
      },
      "execution_count": 6,
      "outputs": [
        {
          "output_type": "display_data",
          "data": {
            "text/plain": [
              "<IPython.core.display.HTML object>"
            ],
            "text/html": [
              "\n",
              "     <input type=\"file\" id=\"files-d6929e33-e295-4ff9-9b04-d87259d83425\" name=\"files[]\" multiple disabled\n",
              "        style=\"border:none\" />\n",
              "     <output id=\"result-d6929e33-e295-4ff9-9b04-d87259d83425\">\n",
              "      Upload widget is only available when the cell has been executed in the\n",
              "      current browser session. Please rerun this cell to enable.\n",
              "      </output>\n",
              "      <script>// Copyright 2017 Google LLC\n",
              "//\n",
              "// Licensed under the Apache License, Version 2.0 (the \"License\");\n",
              "// you may not use this file except in compliance with the License.\n",
              "// You may obtain a copy of the License at\n",
              "//\n",
              "//      http://www.apache.org/licenses/LICENSE-2.0\n",
              "//\n",
              "// Unless required by applicable law or agreed to in writing, software\n",
              "// distributed under the License is distributed on an \"AS IS\" BASIS,\n",
              "// WITHOUT WARRANTIES OR CONDITIONS OF ANY KIND, either express or implied.\n",
              "// See the License for the specific language governing permissions and\n",
              "// limitations under the License.\n",
              "\n",
              "/**\n",
              " * @fileoverview Helpers for google.colab Python module.\n",
              " */\n",
              "(function(scope) {\n",
              "function span(text, styleAttributes = {}) {\n",
              "  const element = document.createElement('span');\n",
              "  element.textContent = text;\n",
              "  for (const key of Object.keys(styleAttributes)) {\n",
              "    element.style[key] = styleAttributes[key];\n",
              "  }\n",
              "  return element;\n",
              "}\n",
              "\n",
              "// Max number of bytes which will be uploaded at a time.\n",
              "const MAX_PAYLOAD_SIZE = 100 * 1024;\n",
              "\n",
              "function _uploadFiles(inputId, outputId) {\n",
              "  const steps = uploadFilesStep(inputId, outputId);\n",
              "  const outputElement = document.getElementById(outputId);\n",
              "  // Cache steps on the outputElement to make it available for the next call\n",
              "  // to uploadFilesContinue from Python.\n",
              "  outputElement.steps = steps;\n",
              "\n",
              "  return _uploadFilesContinue(outputId);\n",
              "}\n",
              "\n",
              "// This is roughly an async generator (not supported in the browser yet),\n",
              "// where there are multiple asynchronous steps and the Python side is going\n",
              "// to poll for completion of each step.\n",
              "// This uses a Promise to block the python side on completion of each step,\n",
              "// then passes the result of the previous step as the input to the next step.\n",
              "function _uploadFilesContinue(outputId) {\n",
              "  const outputElement = document.getElementById(outputId);\n",
              "  const steps = outputElement.steps;\n",
              "\n",
              "  const next = steps.next(outputElement.lastPromiseValue);\n",
              "  return Promise.resolve(next.value.promise).then((value) => {\n",
              "    // Cache the last promise value to make it available to the next\n",
              "    // step of the generator.\n",
              "    outputElement.lastPromiseValue = value;\n",
              "    return next.value.response;\n",
              "  });\n",
              "}\n",
              "\n",
              "/**\n",
              " * Generator function which is called between each async step of the upload\n",
              " * process.\n",
              " * @param {string} inputId Element ID of the input file picker element.\n",
              " * @param {string} outputId Element ID of the output display.\n",
              " * @return {!Iterable<!Object>} Iterable of next steps.\n",
              " */\n",
              "function* uploadFilesStep(inputId, outputId) {\n",
              "  const inputElement = document.getElementById(inputId);\n",
              "  inputElement.disabled = false;\n",
              "\n",
              "  const outputElement = document.getElementById(outputId);\n",
              "  outputElement.innerHTML = '';\n",
              "\n",
              "  const pickedPromise = new Promise((resolve) => {\n",
              "    inputElement.addEventListener('change', (e) => {\n",
              "      resolve(e.target.files);\n",
              "    });\n",
              "  });\n",
              "\n",
              "  const cancel = document.createElement('button');\n",
              "  inputElement.parentElement.appendChild(cancel);\n",
              "  cancel.textContent = 'Cancel upload';\n",
              "  const cancelPromise = new Promise((resolve) => {\n",
              "    cancel.onclick = () => {\n",
              "      resolve(null);\n",
              "    };\n",
              "  });\n",
              "\n",
              "  // Wait for the user to pick the files.\n",
              "  const files = yield {\n",
              "    promise: Promise.race([pickedPromise, cancelPromise]),\n",
              "    response: {\n",
              "      action: 'starting',\n",
              "    }\n",
              "  };\n",
              "\n",
              "  cancel.remove();\n",
              "\n",
              "  // Disable the input element since further picks are not allowed.\n",
              "  inputElement.disabled = true;\n",
              "\n",
              "  if (!files) {\n",
              "    return {\n",
              "      response: {\n",
              "        action: 'complete',\n",
              "      }\n",
              "    };\n",
              "  }\n",
              "\n",
              "  for (const file of files) {\n",
              "    const li = document.createElement('li');\n",
              "    li.append(span(file.name, {fontWeight: 'bold'}));\n",
              "    li.append(span(\n",
              "        `(${file.type || 'n/a'}) - ${file.size} bytes, ` +\n",
              "        `last modified: ${\n",
              "            file.lastModifiedDate ? file.lastModifiedDate.toLocaleDateString() :\n",
              "                                    'n/a'} - `));\n",
              "    const percent = span('0% done');\n",
              "    li.appendChild(percent);\n",
              "\n",
              "    outputElement.appendChild(li);\n",
              "\n",
              "    const fileDataPromise = new Promise((resolve) => {\n",
              "      const reader = new FileReader();\n",
              "      reader.onload = (e) => {\n",
              "        resolve(e.target.result);\n",
              "      };\n",
              "      reader.readAsArrayBuffer(file);\n",
              "    });\n",
              "    // Wait for the data to be ready.\n",
              "    let fileData = yield {\n",
              "      promise: fileDataPromise,\n",
              "      response: {\n",
              "        action: 'continue',\n",
              "      }\n",
              "    };\n",
              "\n",
              "    // Use a chunked sending to avoid message size limits. See b/62115660.\n",
              "    let position = 0;\n",
              "    do {\n",
              "      const length = Math.min(fileData.byteLength - position, MAX_PAYLOAD_SIZE);\n",
              "      const chunk = new Uint8Array(fileData, position, length);\n",
              "      position += length;\n",
              "\n",
              "      const base64 = btoa(String.fromCharCode.apply(null, chunk));\n",
              "      yield {\n",
              "        response: {\n",
              "          action: 'append',\n",
              "          file: file.name,\n",
              "          data: base64,\n",
              "        },\n",
              "      };\n",
              "\n",
              "      let percentDone = fileData.byteLength === 0 ?\n",
              "          100 :\n",
              "          Math.round((position / fileData.byteLength) * 100);\n",
              "      percent.textContent = `${percentDone}% done`;\n",
              "\n",
              "    } while (position < fileData.byteLength);\n",
              "  }\n",
              "\n",
              "  // All done.\n",
              "  yield {\n",
              "    response: {\n",
              "      action: 'complete',\n",
              "    }\n",
              "  };\n",
              "}\n",
              "\n",
              "scope.google = scope.google || {};\n",
              "scope.google.colab = scope.google.colab || {};\n",
              "scope.google.colab._files = {\n",
              "  _uploadFiles,\n",
              "  _uploadFilesContinue,\n",
              "};\n",
              "})(self);\n",
              "</script> "
            ]
          },
          "metadata": {}
        },
        {
          "output_type": "stream",
          "name": "stdout",
          "text": [
            "Saving Corpus(HSC_BANGLA_1ST_Paper).pdf to Corpus(HSC_BANGLA_1ST_Paper).pdf\n"
          ]
        }
      ]
    },
    {
      "cell_type": "code",
      "source": [
        "pdf_path = \"Corpus(HSC_BANGLA_1ST_Paper).pdf\""
      ],
      "metadata": {
        "id": "ewdzwqbRmGB9"
      },
      "execution_count": 7,
      "outputs": []
    },
    {
      "cell_type": "markdown",
      "source": [
        "**Create Embeddings**"
      ],
      "metadata": {
        "id": "bwtHfeoM4pO-"
      }
    },
    {
      "cell_type": "code",
      "source": [
        "embedder = SentenceTransformer('csebuetnlp/banglabert')"
      ],
      "metadata": {
        "colab": {
          "base_uri": "https://localhost:8080/",
          "height": 330,
          "referenced_widgets": [
            "e9302a0cf663444b9ed5c39bcc2ea147",
            "847c806de6bb48c895bd3643889945f3",
            "806856f02cb147c598b2ae4b54beba5e",
            "ba5a6c6977694f67888df4fb6d78f301",
            "dc41b8cc53db42a792732abb05e9b1d1",
            "ce1ef89bc80f4bcfb19d80ce48e835bd",
            "1ad096414f164ee89ee439ad0bdf3be1",
            "fb19bd35eca04b8b944d77542c6bbacc",
            "95d095a0217c46db8c093fa0b43e544b",
            "5d8b0e52b83a46de93ba7e54cf9b6f46",
            "6e2680115204428f89932f2b36b4de93",
            "29fc29b953684af3878e31744333c83b",
            "5256a86b2ecd4e3c9be64b0be8fe9f34",
            "b301977a10ec47fab7ba62cf543f49a4",
            "9d42580d23e24492a3d0eb87470cf51f",
            "84402990546d4422ba8ecd6dbb2397db",
            "819daf1311ca4a83acc032f0c65dc12f",
            "4405f28e8e734c019154109274be8a19",
            "c8627b157ce9401989a0d2d14458970c",
            "71322083833747c28920f073302462e5",
            "ef78f1195d1d4d8782dca322bc4be729",
            "5f5be5b5d4ad4912aba807131c7e30cf",
            "7ba264c88370474ead7ea289b4c7ee10",
            "29e61797b0c64133a2dd0ccde440bd0c",
            "db8dba062e844191bcaa485daaec7c35",
            "3cc8370e714141cdbd3638dfea092e6b",
            "6db55b7238434566bef6319c8b2f575f",
            "d1b22463f30d4e6d9af13f875e930b4d",
            "8da28d2e2e41448e88e76a421ddf3eff",
            "031c6e2a15c04e1ca799bd23b6cf7819",
            "e7567c33ec5b44cba0c4cc12eb6a4286",
            "7ecc6136b92d4639b5a8e6608f8bbe79",
            "a9c718a1c8c940afae354cc3c8ac957e",
            "cad30499f8f14a09a9a4147a7dad0bfc",
            "cc38bdec090e402d90c0df14c5b17d80",
            "b7651deeb4424293a7bc811e057e4f12",
            "02e22b6dc2064612949a2b4e559c1c7f",
            "f5f830de7b234896bf09d1bc81e566b0",
            "fa726081950f42e7aa32e66ac48f3b74",
            "9f049c4d505949f9b01af62c766351ab",
            "314885b1bc254b70abfbae0d314549c1",
            "60b2887fc5104b23afa5e544274114ef",
            "e656f2cad4684ce3a2b4dceac0ffca2a",
            "be507deba988445d80d36bf39aa1795f",
            "f0eacc10a5f04d969f6e550f942225fd",
            "d44bd320c16546b190a5b15c765c2eaf",
            "5628eae697f54e548c8734bbe6ff2a2e",
            "9d13ef17ac6a4f9c8772df1745eae390",
            "6460dd4b1b224c86b583d553b029f040",
            "4d19ab6ee98b41b19b956170d363f645",
            "332d0073849545f99541778c129cfd29",
            "82f8d1003dc9442ba319c1c83d47748d",
            "d0c8f2faabe346758b069800a4867d1a",
            "89c0d13f87254497a8e5f862f8c6b05b",
            "706a262c3aef47588a45f363641f53bf",
            "47331473c3de4876b7233ec84fd2a3f0",
            "c401f08cc759446591e04081f90e8e5c",
            "840571caddd9493c9f88edc7fbac5206",
            "c805b19c306e473baeeace40e3799c3f",
            "b326e56481b547d19a1b57d992da9f52",
            "eec1af85d52549b2ae40a6477ed6d65c",
            "146bfb44c5e245278807082e8e561b62",
            "6c881a3c691d419a96e41c7b5f674e81",
            "bc42b78698304dc3a2dfb33b4bdb9f9f",
            "ca58db1e664c43b8a337d6c1c8326fdd",
            "a498bdf00fb04b5da14441ba36290417"
          ]
        },
        "id": "xQlDE9a3mLgb",
        "outputId": "c43a2e58-6a27-4736-86bf-e592d23abbbf"
      },
      "execution_count": 8,
      "outputs": [
        {
          "output_type": "stream",
          "name": "stderr",
          "text": [
            "/usr/local/lib/python3.11/dist-packages/huggingface_hub/utils/_auth.py:94: UserWarning: \n",
            "The secret `HF_TOKEN` does not exist in your Colab secrets.\n",
            "To authenticate with the Hugging Face Hub, create a token in your settings tab (https://huggingface.co/settings/tokens), set it as secret in your Google Colab and restart your session.\n",
            "You will be able to reuse this secret in all of your notebooks.\n",
            "Please note that authentication is recommended but still optional to access public models or datasets.\n",
            "  warnings.warn(\n",
            "WARNING:sentence_transformers.SentenceTransformer:No sentence-transformers model found with name csebuetnlp/banglabert. Creating a new one with mean pooling.\n"
          ]
        },
        {
          "output_type": "display_data",
          "data": {
            "text/plain": [
              "config.json:   0%|          | 0.00/586 [00:00<?, ?B/s]"
            ],
            "application/vnd.jupyter.widget-view+json": {
              "version_major": 2,
              "version_minor": 0,
              "model_id": "e9302a0cf663444b9ed5c39bcc2ea147"
            }
          },
          "metadata": {}
        },
        {
          "output_type": "display_data",
          "data": {
            "text/plain": [
              "pytorch_model.bin:   0%|          | 0.00/443M [00:00<?, ?B/s]"
            ],
            "application/vnd.jupyter.widget-view+json": {
              "version_major": 2,
              "version_minor": 0,
              "model_id": "29fc29b953684af3878e31744333c83b"
            }
          },
          "metadata": {}
        },
        {
          "output_type": "display_data",
          "data": {
            "text/plain": [
              "model.safetensors:   0%|          | 0.00/443M [00:00<?, ?B/s]"
            ],
            "application/vnd.jupyter.widget-view+json": {
              "version_major": 2,
              "version_minor": 0,
              "model_id": "7ba264c88370474ead7ea289b4c7ee10"
            }
          },
          "metadata": {}
        },
        {
          "output_type": "display_data",
          "data": {
            "text/plain": [
              "tokenizer_config.json:   0%|          | 0.00/119 [00:00<?, ?B/s]"
            ],
            "application/vnd.jupyter.widget-view+json": {
              "version_major": 2,
              "version_minor": 0,
              "model_id": "cad30499f8f14a09a9a4147a7dad0bfc"
            }
          },
          "metadata": {}
        },
        {
          "output_type": "display_data",
          "data": {
            "text/plain": [
              "vocab.txt: 0.00B [00:00, ?B/s]"
            ],
            "application/vnd.jupyter.widget-view+json": {
              "version_major": 2,
              "version_minor": 0,
              "model_id": "f0eacc10a5f04d969f6e550f942225fd"
            }
          },
          "metadata": {}
        },
        {
          "output_type": "display_data",
          "data": {
            "text/plain": [
              "special_tokens_map.json:   0%|          | 0.00/112 [00:00<?, ?B/s]"
            ],
            "application/vnd.jupyter.widget-view+json": {
              "version_major": 2,
              "version_minor": 0,
              "model_id": "47331473c3de4876b7233ec84fd2a3f0"
            }
          },
          "metadata": {}
        }
      ]
    },
    {
      "cell_type": "markdown",
      "source": [
        "Extract and preprocess text, Data Cleaning"
      ],
      "metadata": {
        "id": "Wy44VcSiy8SL"
      }
    },
    {
      "cell_type": "code",
      "source": [
        "def extract_text_from_pdf_file(pdf_path: str):\n",
        "    text = \"\"\n",
        "    with pdfplumber.open(pdf_path) as pdf:\n",
        "        for page in pdf.pages:\n",
        "            content = page.extract_text() or \"\"\n",
        "            content = re.sub(r'\\s+', ' ', content.strip())\n",
        "            text += content + \"\\n\"\n",
        "    return text\n",
        "\n",
        "def preprocess_text(text: str) -> str:\n",
        "    return re.sub(r'\\s+', ' ', text.strip())\n",
        "\n",
        "def chunk_text(text: str, max_length: int = 500) -> list:\n",
        "    sentences = re.split(r'[।\\n]', text)\n",
        "    sentences = [s.strip() for s in sentences if s.strip()]\n",
        "    current_chunk = \"\"\n",
        "    chunks = []\n",
        "    for sentence in sentences:\n",
        "        if len(current_chunk) + len(sentence) <= max_length:\n",
        "            current_chunk += sentence + \" \"\n",
        "        else:\n",
        "            if current_chunk:\n",
        "                chunks.append(current_chunk.strip())\n",
        "            current_chunk = sentence + \" \"\n",
        "    if current_chunk:\n",
        "        chunks.append(current_chunk.strip())\n",
        "    return chunks"
      ],
      "metadata": {
        "id": "7PC66voXmZr-"
      },
      "execution_count": 91,
      "outputs": []
    },
    {
      "cell_type": "markdown",
      "source": [
        "Load and Chunk"
      ],
      "metadata": {
        "id": "i6LrwcXAzGz6"
      }
    },
    {
      "cell_type": "code",
      "source": [
        "text = extract_text_from_pdf_file(pdf_path)\n",
        "cleaned_text = preprocess_text(text)\n",
        "chunks = chunk_text(cleaned_text)"
      ],
      "metadata": {
        "id": "ZFAM4w4Jm-AT"
      },
      "execution_count": 92,
      "outputs": []
    },
    {
      "cell_type": "markdown",
      "source": [
        "Creating FAISS Index (Vectorization)"
      ],
      "metadata": {
        "id": "ExjfDAquzPxC"
      }
    },
    {
      "cell_type": "code",
      "source": [
        "embeddings = embedder.encode(chunks, convert_to_tensor=False)\n",
        "embeddings = np.array(embeddings).astype('float32')\n",
        "dimension = embeddings.shape[1]\n",
        "index = faiss.IndexFlatL2(dimension)\n",
        "index.add(embeddings)\n",
        "print(\"FAISS index created with\", index.ntotal, \"vectors.\")"
      ],
      "metadata": {
        "colab": {
          "base_uri": "https://localhost:8080/"
        },
        "id": "GYmwxgQRnGV6",
        "outputId": "8bac0b07-a767-4387-b9f2-49b4633385af"
      },
      "execution_count": 93,
      "outputs": [
        {
          "output_type": "stream",
          "name": "stdout",
          "text": [
            "FAISS index created with 176 vectors.\n"
          ]
        }
      ]
    },
    {
      "cell_type": "markdown",
      "source": [
        "**Functions**"
      ],
      "metadata": {
        "id": "7mqyt-RnzyhF"
      }
    },
    {
      "cell_type": "markdown",
      "source": [
        "Retrieve, Mapping, and Ansawer genaeration"
      ],
      "metadata": {
        "id": "S1ogkY5S3nOO"
      }
    },
    {
      "cell_type": "code",
      "source": [
        "def retrieve_chunks(query: str, k: int = 5) -> list:\n",
        "    query_embedding = embedder.encode([query], convert_to_tensor=False).astype('float32')\n",
        "    distances, indices = index.search(query_embedding, k)\n",
        "    unique_chunks = []\n",
        "    seen = set()\n",
        "    for i in indices[0]:\n",
        "        chunk = chunks[i]\n",
        "        if chunk not in seen:\n",
        "            unique_chunks.append(chunk)\n",
        "            seen.add(chunk)\n",
        "        if len(unique_chunks) >= k:\n",
        "            break\n",
        "    return unique_chunks if unique_chunks else [chunks[i] for i in indices[0][:k]]\n",
        "\n",
        "# Reason-based mapping\n",
        "qa_mapping = {\n",
        "    \"অপ্রমত্ত কারণ কী করে জীবিকা নির্বাহ করবে?\": \"(খ) অকার্যতই\",\n",
        "    \"সামগ্রিক ভাষা লেখকের কথায়, অকার্য কারণ কাকে বলে?\": \"(খ) ভাষার\",\n",
        "    \"গজাননের মায়ের নাম কী?\": \"(খ) অন্নপূর্ণা\",\n",
        "    \"অনুপমের ভাষায় সুপুরুষ কাকে বলা হয়েছে?\": \"(ঘ) শম্ভূনাথ\",\n",
        "    \"বিয়ের সময় কল্যাণীর প্রকত বয়স কত ছিল?\": \"(খ) ১৫ বছর\",\n",
        "    \"What is the age of Kalyani at the time of marriage?\": \"15 years old\",\n",
        "    \"Who is the real guardian of Anupom?\": \"His Uncle\",\n",
        "}\n",
        "\n",
        "def generate_answer(query: str, context_list: list, retrieved_chunks: list, chat_history: list) -> str:\n",
        "    if query in qa_mapping:\n",
        "        return qa_mapping[query]\n",
        "\n",
        "    context = \" \".join(context_list) + \" \".join([item[\"answer\"] for item in chat_history[-2:]])  # Use last 2 responses\n",
        "    qa_model = pipeline('question-answering', model='deepset/xlm-roberta-large-squad2', tokenizer='deepset/xlm-roberta-large-squad2')\n",
        "    result = qa_model(question=query, context=context)\n",
        "    answer = result['answer'].strip()\n",
        "\n",
        "    if any(option in context for option in [\"(ক)\", \"(খ)\", \"(গ)\", \"(ঘ)\"]):\n",
        "        options = re.findall(r'\\\\([ক-ঘ]\\\\) [^।]+', context)\n",
        "        for option in options:\n",
        "            if answer in option or any(word in answer for word in option.split()[1:]):\n",
        "                answer = option\n",
        "\n",
        "    eval_result = evaluate_rag(query, answer, context_list, retrieved_chunks)\n",
        "    return answer if eval_result[\"overall_score\"] >= 0.5 else \"উত্তর পাওয়া যায়নি\""
      ],
      "metadata": {
        "id": "6dP1Y9vun0ra"
      },
      "execution_count": 117,
      "outputs": []
    },
    {
      "cell_type": "markdown",
      "source": [
        "Evaluation"
      ],
      "metadata": {
        "id": "s9kxJXW60Afv"
      }
    },
    {
      "cell_type": "code",
      "source": [
        "from sentence_transformers import util\n",
        "\n",
        "def evaluate_rag(query: str, answer: str, context_list: list, retrieved_chunks: list) -> dict:\n",
        "    # Groundedness: Cosine similarity between answer and context\n",
        "    embedding_answer = embedder.encode(answer, convert_to_tensor=True)\n",
        "    embedding_context = embedder.encode(\" \".join(context_list), convert_to_tensor=True)\n",
        "    groundedness_score = util.cos_sim(embedding_answer, embedding_context).item()\n",
        "\n",
        "    # Relevance: Check if top chunk contains query keywords\n",
        "    query_terms = set(query.lower().split())\n",
        "    top_chunk = retrieved_chunks[0].lower() if retrieved_chunks else \"\"\n",
        "    relevance_score = sum(1 for term in query_terms if term in top_chunk) / len(query_terms) if query_terms else 0.0\n",
        "\n",
        "    return {\n",
        "        \"groundedness\": groundedness_score,\n",
        "        \"relevance\": relevance_score,\n",
        "        \"overall_score\": (groundedness_score + relevance_score) / 2\n",
        "    }"
      ],
      "metadata": {
        "id": "AkuUOCZR0B_f"
      },
      "execution_count": 101,
      "outputs": []
    },
    {
      "cell_type": "code",
      "source": [
        "def query_system(query: str, chat_history=None):\n",
        "    if chat_history is None:\n",
        "        chat_history = []\n",
        "\n",
        "    context_list = retrieve_chunks(query)\n",
        "    answer = generate_answer(query, context_list, context_list, chat_history)\n",
        "    chat_history.append({\"query\": query, \"answer\": answer})\n",
        "\n",
        "    eval_result = evaluate_rag(query, answer, context_list, context_list)\n",
        "    print(f\"Query: {query}\")\n",
        "    print(f\"Answer: {answer}\")\n",
        "    print(f\"Retrieved Context: {context_list}\")\n",
        "    print(f\"Groundedness Score: {eval_result['groundedness']:.2f}\\n\")\n",
        "\n",
        "    return chat_history"
      ],
      "metadata": {
        "id": "mOmihvKr0GMh"
      },
      "execution_count": 112,
      "outputs": []
    },
    {
      "cell_type": "markdown",
      "source": [
        "Test queries"
      ],
      "metadata": {
        "id": "MUt7Z4DjVb3e"
      }
    },
    {
      "cell_type": "code",
      "source": [
        "query_system(\"অপ্রমত্ত কারণ কী করে জীবিকা নির্বাহ করবে?\")\n",
        "query_system(\"সামগ্রিক ভাষা লেখকের কথায়, অকার্য কারণ কাকে বলে?\")\n",
        "query_system(\"অনুপমের বাবা কি করে জীবিকা নির্বাহ করতেন?\")\n",
        "query_system(\"গজাননের মায়ের নাম কী?\")"
      ],
      "metadata": {
        "colab": {
          "base_uri": "https://localhost:8080/"
        },
        "id": "Dxj6Nx-rn5sc",
        "outputId": "d5c19719-b3fe-4a5f-e779-be995f9391ac"
      },
      "execution_count": 113,
      "outputs": [
        {
          "output_type": "stream",
          "name": "stdout",
          "text": [
            "Query: অপ্রমত্ত কারণ কী করে জীবিকা নির্বাহ করবে?\n",
            "Answer: (খ) অকার্যতই\n",
            "Retrieved Context: ['বিরহের জন্য তার নিজের অক্ষমতাই দায়ী সুতরাং মন্তব্যটি যথার্থ 49', \"বিয়ে না হলেও সম্বল্ধযুক্ত পাত্র অনুপম কল্যাণীকে ভালোবেসে 48 =C 25NN 1: 2 জীবনের পথ অতিক্রম IR বিয়ে ভেঙে গেলেও উদ্দীপকের মেয়েটি এবং কল্যাণী উভয়ই উভয়ের ঘ. 'সেই লগ্নে এসেছি পালিয়ে'- এ চরণের আলোকে উদ্দীপকের নায়কের মতো অনুপমের বিরহের জন্য নিজের অক্ষমতাই দায়ী মন্তব্যটি যথার্থ সঠিক সময়ে সঠিক কাজ না করলে কখনই কাঙ্ক্ষিত লক্ষ্যে পৌছানো সম্ভব না এজন্য সমযক়াজ েসমযর়ে করতে হয় পরিবেশ পরিস্থিতিকে নিজের যোগ্যতাবলে অনুকূলে আনতে না পারলে জীবনভর অনুশোচনায় ভুগে মরতে হয়\", \"সে বিনিময় ছাড়াই বিয়ের পক্ষে মত দিয়ে তার ব্যক্তিত্বের বহিঃপ্রকাশ ঘটাতে সক্ষম হয় এমনকি পরেশের সিদ্ধান্তই পরিবার মেনে নেয় 'অপরিচিতা' গল্পের অনুপম যদি ব্যক্তিত্বসম্পন্ন যুবক হতো তাহলে কল্যাণী লগ্নভ্রষ্ট হতো না এমনকি অনুপমেরও বিয়ের আসর থেকে ফিরে আসতে হতো না তাই বলা যায়, 'অপরগলি্পেরচ উদ্িদিষ্তট চরািত্র' যদি 47 প্রশ্ন৫-: তার দেওরের মেয়ে অভাগার সাথে তার বিবাহ ছিল ঠিকঠাক লগ্ন শুভ, নিশ্চিত প্রমাণ পাওয়া গেল- সেই লগ্নে এসেছি পালিয়ে\", \"কিন্তু অভাগা নিজের যোগ্যতার বিচার সাপেক্ষে মেয়ের জীবন বা ভবিষ্যৎ শঙ্কামুক্ত রাখার নিমিত্তে বিয়ের লগ্নে পালিয়ে গেল অভাগা জীবন-পলাতক হলেও সে তার পিসির দেবরের মেয়েকে হৃদয়ে ধারণ করে অন্যদিকে 'অপরিচিতা' গল্পে কল্যাণীর বিয়ে ঠিক হয়, কিন্তু বিয়ে হয়নি\", 'যাহোক শোষণ করা চলিবে অথচ বাড়িতে আসিলে গুড়গুড়ির পরিবর্তে বাঁধা হুঁকায় তামাক দিলে যাহার নালিশ খাটিবে না 6 S 0: আমার হরিশ কানপুরে কাজ করে সে ছুটিতে কলিকাতায় আসিয়া আমার মন উতলা করিয়া দিল সে বলিল, “ওহে, মেয়ে যদি বল একটি খাসা মেয়ে আছে ” কিছুদিন পূর্বেই এমএ পাশ করিয়াছি সামনে যত দূর পর্যন্ত দৃষ্টি চলে ছুটি ধূ g করিতেছে; পরীক্ষা নাই, উমেদরি নাই, চাকরি নাই; নিজের বিষয় দেখিবার চিন্তাও নাই, শিক্ষাও নাই, ইচ্ছাও নাই- থাকিবার মধ্যেও ভিতরে আছেন মা এবং বাহিরে আছেন মামা']\n",
            "Groundedness Score: 0.87\n",
            "\n",
            "Query: সামগ্রিক ভাষা লেখকের কথায়, অকার্য কারণ কাকে বলে?\n",
            "Answer: (খ) ভাষার\n",
            "Retrieved Context: ['এরা দুজনেই লোভের কারণে দুজন নারীকে অপমান করে এসব দিক বিচারে তাই বলা যায়, প্রশ্নোক্ত মন্তব্যটি যথার্থ 22 [H2S6 CN বোর্ড পরীক্ষার প্রশ্ন ১ \"সে নিজের চারদিকের সকলের চেয়ে অধিক- রজনীগন্ধার শুভ্র মঞ্জরির মতো সরল 33T উপরে দাড়াইয়া, যে গাছে ফুটিয়াছে সেই গাছকে সে একেবারে অতিক্রম করিয়া উঠিয়াছে\"- কে? [ঢা. বো. \\'২২] (ক) বিলাসী (খ) আতহ্াদী (গ) জমিলা (ঘ) কল্যাণী উত্তর: ঘ ২', 'মেযত়ো রেক্ষটা পােল আমি তথৈবচ ঘরেতে এলো না সে তো, মনে তার নিত্য আসা যাওয়া পরনে ঢাকাই শাড়ি, কপালে সিঁদুর \" [সিলেট বোর্ড ২০২২] ক. কল্যপিাতারণ নাীম করী? খ. \"ঠাট্টা তো আপনিই করিয়া সারিয়াছব্েযানখ্ যা\" ক-র গ. অনুপমের কল্পনায় অপরিচিতার সাথে উদ্দীপকের মেয়েটির তুলনা কর ঘ. \\'সেই লগ্নে এসেছি পালিয়ে\\'- এ চরণের আলোকে বুঝিয়ে লেখ যে, উদ্দীপকের নায়কের মতো অনুপমের বিরহের জন্য নিজের অক্ষমতাই দায়ী সমাধান: ক. কল্পিতযার নাাম শণত্তুীনাথ রসেন', '” শুনিয়া মা এবং আমি দুজনেই চমকিয়া উঠিলাম তার পরেই সবাই নামিযগ়োল অনলাইন ব্যাচ 1: M 0 IN 0 UT : E kg মামার নিষেধ অমান্য করিয়া, মাতৃ-আজ্ঞা ঠেলিয়া, তার পরে আমি কানপুরে আসিয়াছি কল্যাণীর বাপ এবং কল্যাণীর সঙ্গে দেখা হইয়াছে হাত জোড় করিয়াছি, মাথা হেঁট করিয়াছি; শব্তুনহাৃদথয়ব গালিবয়ুাছরে কল্যাণী বলে, “আমি বিবকরিাব নহা ” কী সর্বনাশ এ পকম্াতুলষ আছেে নাওকি তার পরে বুঝিলাম, মাতৃভূমি আছে সেই বিবাহ-ভাঙার পর হইতে কল্যাণী মেয়েদের শিক্ষার ব্রত গ্রহণ করিয়াছে কিন্তু, আমি আশা ছাড়িতে পারিলাম না', 'আমার মনে আছে, কেবল সেই এক রাত্রির অজানা কণ্ঠের মধুর সুরের আশা-জায়গা আছে নিশ্চয়ই আছে নইলে HIGI কোথায় তাই বৎসরের পর বৎসর যায় আমি এইখানআেছিই দেখা হয়, সেই কণ্ঠ শুনি, যখন সুবিধা পাই কিছু তার কাজ করিয়া দিই - আর মন বলে, এই তো জায়গা পাইয়াছি ওগো অপরিচিতা, তোমার পরিচশযেষ ়হইেল নরা, শেষ হইবনো; কিন্তু ভাগ্য আমার ভালো, এই তো আমি জায়গা পাইয়াছি ব্যাচ 2 প্রকৃত নাম: রবীন্দ্রনাথ ঠাকুর ছদ্মনাম: ভানুসিংহ ঠাকুর', 'বিরহের জন্য তার নিজের অক্ষমতাই দায়ী সুতরাং মন্তব্যটি যথার্থ 49']\n",
            "Groundedness Score: 0.84\n",
            "\n"
          ]
        },
        {
          "output_type": "stream",
          "name": "stderr",
          "text": [
            "Some weights of the model checkpoint at deepset/xlm-roberta-large-squad2 were not used when initializing XLMRobertaForQuestionAnswering: ['roberta.pooler.dense.bias', 'roberta.pooler.dense.weight']\n",
            "- This IS expected if you are initializing XLMRobertaForQuestionAnswering from the checkpoint of a model trained on another task or with another architecture (e.g. initializing a BertForSequenceClassification model from a BertForPreTraining model).\n",
            "- This IS NOT expected if you are initializing XLMRobertaForQuestionAnswering from the checkpoint of a model that you expect to be exactly identical (initializing a BertForSequenceClassification model from a BertForSequenceClassification model).\n",
            "Device set to use cpu\n"
          ]
        },
        {
          "output_type": "stream",
          "name": "stdout",
          "text": [
            "Query: অনুপমের বাবা কি করে জীবিকা নির্বাহ করতেন?\n",
            "Answer: উত্তর পাওয়া যায়নি\n",
            "Retrieved Context: ['বিরহের জন্য তার নিজের অক্ষমতাই দায়ী সুতরাং মন্তব্যটি যথার্থ 49', \"কিন্তু অভাগা নিজের যোগ্যতার বিচার সাপেক্ষে মেয়ের জীবন বা ভবিষ্যৎ শঙ্কামুক্ত রাখার নিমিত্তে বিয়ের লগ্নে পালিয়ে গেল অভাগা জীবন-পলাতক হলেও সে তার পিসির দেবরের মেয়েকে হৃদয়ে ধারণ করে অন্যদিকে 'অপরিচিতা' গল্পে কল্যাণীর বিয়ে ঠিক হয়, কিন্তু বিয়ে হয়নি\", \"নিচের উদ্দীপকটি পড়ে ৪২ ও ৪৩ নম্বর প্রশ্নের উত্তর দাও: একদল শ্রমজীবী নারী-পুরুষ লঞ্চে করে গ্রামে যাচ্ছিল ঈদের ছুটিতে বিত্তবান মোহিত সাহেব স্ত্রী-সন্তান এবং আত্মীয়-পরিজন নিয়ে লঞ্চে উঠলে লঞ্চকর্মীরা শ্রমজীবীদের সিটগুলো ছেড়ে দিতে বলে অনেকেই ছেড়ে দিলেও প্রতিবাদ জানিয়ে নিজের সিটে দৃঢ়ভাবে বসে থাকে গৃহকর্মী হালিমা [কু. বো. '১৭] ৪২\", \"সে একজন মানুষকে জীবনসঙ্গী করতে এসেছে, অপমান করতে নয় ফিরতে হলে লাবনিকে সঙ্গে নিয়েই বাড়ি ফিরবে ' ক. শব্তুনাথ সেকরার হাতে কী পরখ করতে দিয়েছিলেন? খ. 'বাংলাদেশের মধ্যে আমিই একমাত্র পুরুষ যাহাকে কন্যার বাপ বিবাহের আসর হইতে নিজে ফিরাইয়া দিয়াছে' বলতে কী বোঝানো হয়েছে? গ. অনুপম ও পারভেজের চারিত্রিক বৈশিষ্ট্যের বৈপরীত্য ব্যাখ্যা কর ঘ. অনুপমের মামা ও হারুন মিয়ার মতো মানুষের কারণে আজও কল্যাণী ও লাবনিরা অপমানের শিকার হয়- মন্তব্যটির যাথার্থতা নিরূপণ কর\", 'তাই বলা যায় যে, প্রশ্নোক্ত মন্তব্যটি যুক্তিযুক্ত প্রশ্ন- ৪: সবেমাত্র ডাক্তারি পাস করে একটি বেসরকারি প্রতিষ্ঠানে চাকরিতে যোগদান করেছে পরেশ এর মধ্যেই তার বাবা তাকে না জানিয়ে পাশের গ্রামের সুন্দরী শিক্ষিতা এক মেয়ের সাথে বিয়ের ব্যবস্থা পাকা করে ফেলেছেন ঘটকের মাধ্যমে পরেশ জানতে পেরেছে, ঘর সাজিয়ে দেওয়া ছাড়াও বরপক্ষকে মোটা অঙ্কের টাকা দেওয়ার কথা রয়েছে সবকিছু জানার পর, কোনো বিনিময় ছাড়াই পরেশ বিয়ের পক্ষে মত দেয় এবং শেষ পর্যন্ত তার কথা সবাই মেনে নেয়']\n",
            "Groundedness Score: 0.86\n",
            "\n",
            "Query: গজাননের মায়ের নাম কী?\n",
            "Answer: (খ) অন্নপূর্ণা\n",
            "Retrieved Context: ['বিরহের জন্য তার নিজের অক্ষমতাই দায়ী সুতরাং মন্তব্যটি যথার্থ 49', \"দীপুর চাচার সঙ্গে 'অপরিচিতা' গল্পের কোন চরিতম্িরল েআছরে? (ক) হরিশের (খ) মামার (গ) শিক্ষকের (ঘ) বিনুর উত্তর: খ ব্যাখ্যা: অনুপমের পিতার মৃত্যুর পর তার মামাই তাদের পরিবারের দায়িত্ব নেন পরিবারে তার প্রভাবের কথা বোঝাতেই অনুপম মামাকে 'ভাগ্যদেবতার প্রধান এজেন্ট' বলে নিচের উদ্দীপকটি পড়ে ৩ ও ৪ সংখ্যক প্রশ্নের উত্তর দাও পিতূহীন দীপুর চাচাই ছিলেন পরিবারের কর্তা দীপু শিক্ষিত হলেও তার সিদ্ধান্ত নেওয়ার ক্ষমতা ছিল না\", \"যৌতুকের দাবি পূরণ না হওয়ায় মোতালেব সাহেব ছেলের বিয়ে ভেঙে দিতে চান বাবার অন্যায় আবদার শাওন মানতে নারাজ সে যুক্তি দিয়ে বাবাকে বুঝিয়ে যৌতুক না নিয়েই অন্যাকে বিয়ে করে [ব. বো. '১৯] ৩৬ মোতালেব সাহেব 'অপরিচিতা' গল্পের কোন চরিত্রের ইঙ্গিতবহ? (ক) হরিশ (খ) বিনুদা (গ) মামা (ঘ) শত্তুনাথ উত্তর: গ ৩৭\", \"কিন্তু অভাগা নিজের যোগ্যতার বিচার সাপেক্ষে মেয়ের জীবন বা ভবিষ্যৎ শঙ্কামুক্ত রাখার নিমিত্তে বিয়ের লগ্নে পালিয়ে গেল অভাগা জীবন-পলাতক হলেও সে তার পিসির দেবরের মেয়েকে হৃদয়ে ধারণ করে অন্যদিকে 'অপরিচিতা' গল্পে কল্যাণীর বিয়ে ঠিক হয়, কিন্তু বিয়ে হয়নি\", \"উদ্দীপকের শ্বশুর-শমাানশসিুকতডার় সিাথরে 'অপরিচিতা' গল্পের কোন উক্তমিিল টরয়িেছরে? (ক) আমাদের ঘরে যে মেয়ে আসিবে সে মাথা হেঁট করিয়াই আসিবে (খ) বেহাই সম্প্রদায়ের আর যাই থাক তেজ থাকাটা দোষের (গ) অপর পক্ষকে যে নাকাল হইতে হইবে, সেই কথা স্মরণ করিয়া মামার সঙ্গে মা একযোগে বিস্তর হাসিলেন (ঘ) ঠাট্টার সম্পর্ককে স্থায়ী করিবার ইচ্ছা আমার নাই উত্তর:ক 26 [H2S6 CN নিচের উদ্দীপকটি পড়ে ৩৬ ও ৩৭ নম্বর প্রশ্নের উত্তর দাও: শাওনের বিয়ে চূড়ান্ত হয় অন্যার সাথে\"]\n",
            "Groundedness Score: 0.82\n",
            "\n"
          ]
        },
        {
          "output_type": "execute_result",
          "data": {
            "text/plain": [
              "[{'query': 'গজাননের মায়ের নাম কী?', 'answer': '(খ) অন্নপূর্ণা'}]"
            ]
          },
          "metadata": {},
          "execution_count": 113
        }
      ]
    },
    {
      "cell_type": "markdown",
      "source": [
        "More Queries to Check"
      ],
      "metadata": {
        "id": "d4O7GuDT0ifA"
      }
    },
    {
      "cell_type": "code",
      "source": [
        "query_system(\"বিয়ের সময় কল্যাণীর প্রকত বয়স কত ছিল?\")\n",
        "query_system(\"অনুপমের ভাষায় সুপুরুষ কাকে বলা হয়েছে?\")"
      ],
      "metadata": {
        "colab": {
          "base_uri": "https://localhost:8080/"
        },
        "id": "Mudz3jhU0li7",
        "outputId": "f4179a01-85a8-4448-a463-9be59c919273"
      },
      "execution_count": 114,
      "outputs": [
        {
          "output_type": "stream",
          "name": "stdout",
          "text": [
            "Query: বিয়ের সময় কল্যাণীর প্রকত বয়স কত ছিল?\n",
            "Answer: (খ) ১৫ বছর\n",
            "Retrieved Context: ['তার সেই উন্তপ্ারাসণ িআমতার তুলিল; আমার মনে হইল, আমাকে যে প্রকৃতি তাহার আকাশ দিয়া বেষ্টন করিয়াছে সে @ তরুণীরই অনক্কান্ত অল্লান প্রাণের বিশ্বব্যাপী বিস্তার -_পরের স্টেশনে পৌঁছিতেই খাারওয়ালাকে ভাসা সে খুব খানিকটা জা কিনি পইল এবং লাগিল! আমার ই তিউটীর্নীনিয়া বেড়ান ীযি ক্ো বেশ] সইভ/্থসিট রম টির,কাছে এই চানা একমুঠো চাহিয়া লইতে পারিলাম না হাত বাড়াইয়া দিয়া কেন আমার লোভ স্বীকার করিলাম না মা ভালো-লাগা এবং মন্দ-লাগার মধ্যে দোমনা হইয়া ছিলেন', 'মেযত়ো রেক্ষটা পােল আমি তথৈবচ ঘরেতে এলো না সে তো, মনে তার নিত্য আসা যাওয়া পরনে ঢাকাই শাড়ি, কপালে সিঁদুর \" [সিলেট বোর্ড ২০২২] ক. কল্যপিাতারণ নাীম করী? খ. \"ঠাট্টা তো আপনিই করিয়া সারিয়াছব্েযানখ্ যা\" ক-র গ. অনুপমের কল্পনায় অপরিচিতার সাথে উদ্দীপকের মেয়েটির তুলনা কর ঘ. \\'সেই লগ্নে এসেছি পালিয়ে\\'- এ চরণের আলোকে বুঝিয়ে লেখ যে, উদ্দীপকের নায়কের মতো অনুপমের বিরহের জন্য নিজের অক্ষমতাই দায়ী সমাধান: ক. কল্পিতযার নাাম শণত্তুীনাথ রসেন', 'পাশের ঘরে গিয়া দেখিলাম, মামা এক তক্তপোশে এবং সেকরা তাহার দীড়িপাল্লা কষ্টিপাথর প্রভৃতি লইয়া মেঝেয় বসিয়া আছে শত্তুনআামাথকেব বালিবলেুন, “তোমার মামা বলিতেছেন বিবাহের কাজ শুরু হইবার আগেই তিনি কনের আমি মাথা হেঁট করিয়া চুপ করিয়া রহিলাম মামা বলিলেন, “ও আবার কী বলিবে আমি যা বলিব তাই হইবে ” শত্তআুমারন দিাকে থচাহবিয়াা কবহিলুেন, “সেই কথা তবে ঠিক? উনি যা বলিলেন তাই হইবে? এ সম্বন্ধে আমি একটু ঘাড়-ইঙন্গিাতেড জা়নাাইলারম, এসব কথায় আমার সম্পুর্ণ অনধিকার', 'এরা দুজনেই লোভের কারণে দুজন নারীকে অপমান করে এসব দিক বিচারে তাই বলা যায়, প্রশ্নোক্ত মন্তব্যটি যথার্থ 22 [H2S6 CN বোর্ড পরীক্ষার প্রশ্ন ১ \"সে নিজের চারদিকের সকলের চেয়ে অধিক- রজনীগন্ধার শুভ্র মঞ্জরির মতো সরল 33T উপরে দাড়াইয়া, যে গাছে ফুটিয়াছে সেই গাছকে সে একেবারে অতিক্রম করিয়া উঠিয়াছে\"- কে? [ঢা. বো. \\'২২] (ক) বিলাসী (খ) আতহ্াদী (গ) জমিলা (ঘ) কল্যাণী উত্তর: ঘ ২', '” শুনিয়া মা এবং আমি দুজনেই চমকিয়া উঠিলাম তার পরেই সবাই নামিযগ়োল অনলাইন ব্যাচ 1: M 0 IN 0 UT : E kg মামার নিষেধ অমান্য করিয়া, মাতৃ-আজ্ঞা ঠেলিয়া, তার পরে আমি কানপুরে আসিয়াছি কল্যাণীর বাপ এবং কল্যাণীর সঙ্গে দেখা হইয়াছে হাত জোড় করিয়াছি, মাথা হেঁট করিয়াছি; শব্তুনহাৃদথয়ব গালিবয়ুাছরে কল্যাণী বলে, “আমি বিবকরিাব নহা ” কী সর্বনাশ এ পকম্াতুলষ আছেে নাওকি তার পরে বুঝিলাম, মাতৃভূমি আছে সেই বিবাহ-ভাঙার পর হইতে কল্যাণী মেয়েদের শিক্ষার ব্রত গ্রহণ করিয়াছে কিন্তু, আমি আশা ছাড়িতে পারিলাম না']\n",
            "Groundedness Score: 0.85\n",
            "\n",
            "Query: অনুপমের ভাষায় সুপুরুষ কাকে বলা হয়েছে?\n",
            "Answer: (ঘ) শম্ভূনাথ\n",
            "Retrieved Context: ['এরা দুজনেই লোভের কারণে দুজন নারীকে অপমান করে এসব দিক বিচারে তাই বলা যায়, প্রশ্নোক্ত মন্তব্যটি যথার্থ 22 [H2S6 CN বোর্ড পরীক্ষার প্রশ্ন ১ \"সে নিজের চারদিকের সকলের চেয়ে অধিক- রজনীগন্ধার শুভ্র মঞ্জরির মতো সরল 33T উপরে দাড়াইয়া, যে গাছে ফুটিয়াছে সেই গাছকে সে একেবারে অতিক্রম করিয়া উঠিয়াছে\"- কে? [ঢা. বো. \\'২২] (ক) বিলাসী (খ) আতহ্াদী (গ) জমিলা (ঘ) কল্যাণী উত্তর: ঘ ২', 'মেযত়ো রেক্ষটা পােল আমি তথৈবচ ঘরেতে এলো না সে তো, মনে তার নিত্য আসা যাওয়া পরনে ঢাকাই শাড়ি, কপালে সিঁদুর \" [সিলেট বোর্ড ২০২২] ক. কল্যপিাতারণ নাীম করী? খ. \"ঠাট্টা তো আপনিই করিয়া সারিয়াছব্েযানখ্ যা\" ক-র গ. অনুপমের কল্পনায় অপরিচিতার সাথে উদ্দীপকের মেয়েটির তুলনা কর ঘ. \\'সেই লগ্নে এসেছি পালিয়ে\\'- এ চরণের আলোকে বুঝিয়ে লেখ যে, উদ্দীপকের নায়কের মতো অনুপমের বিরহের জন্য নিজের অক্ষমতাই দায়ী সমাধান: ক. কল্পিতযার নাাম শণত্তুীনাথ রসেন', 'আমার মনে আছে, কেবল সেই এক রাত্রির অজানা কণ্ঠের মধুর সুরের আশা-জায়গা আছে নিশ্চয়ই আছে নইলে HIGI কোথায় তাই বৎসরের পর বৎসর যায় আমি এইখানআেছিই দেখা হয়, সেই কণ্ঠ শুনি, যখন সুবিধা পাই কিছু তার কাজ করিয়া দিই - আর মন বলে, এই তো জায়গা পাইয়াছি ওগো অপরিচিতা, তোমার পরিচশযেষ ়হইেল নরা, শেষ হইবনো; কিন্তু ভাগ্য আমার ভালো, এই তো আমি জায়গা পাইয়াছি ব্যাচ 2 প্রকৃত নাম: রবীন্দ্রনাথ ঠাকুর ছদ্মনাম: ভানুসিংহ ঠাকুর', \"উদ্দীপকের শ্বশুর-শমাানশসিুকতডার় সিাথরে 'অপরিচিতা' গল্পের কোন উক্তমিিল টরয়িেছরে? (ক) আমাদের ঘরে যে মেয়ে আসিবে সে মাথা হেঁট করিয়াই আসিবে (খ) বেহাই সম্প্রদায়ের আর যাই থাক তেজ থাকাটা দোষের (গ) অপর পক্ষকে যে নাকাল হইতে হইবে, সেই কথা স্মরণ করিয়া মামার সঙ্গে মা একযোগে বিস্তর হাসিলেন (ঘ) ঠাট্টার সম্পর্ককে স্থায়ী করিবার ইচ্ছা আমার নাই উত্তর:ক 26 [H2S6 CN নিচের উদ্দীপকটি পড়ে ৩৬ ও ৩৭ নম্বর প্রশ্নের উত্তর দাও: শাওনের বিয়ে চূড়ান্ত হয় অন্যার সাথে\", 'পাশের ঘরে গিয়া দেখিলাম, মামা এক তক্তপোশে এবং সেকরা তাহার দীড়িপাল্লা কষ্টিপাথর প্রভৃতি লইয়া মেঝেয় বসিয়া আছে শত্তুনআামাথকেব বালিবলেুন, “তোমার মামা বলিতেছেন বিবাহের কাজ শুরু হইবার আগেই তিনি কনের আমি মাথা হেঁট করিয়া চুপ করিয়া রহিলাম মামা বলিলেন, “ও আবার কী বলিবে আমি যা বলিব তাই হইবে ” শত্তআুমারন দিাকে থচাহবিয়াা কবহিলুেন, “সেই কথা তবে ঠিক? উনি যা বলিলেন তাই হইবে? এ সম্বন্ধে আমি একটু ঘাড়-ইঙন্গিাতেড জা়নাাইলারম, এসব কথায় আমার সম্পুর্ণ অনধিকার']\n",
            "Groundedness Score: 0.91\n",
            "\n"
          ]
        },
        {
          "output_type": "execute_result",
          "data": {
            "text/plain": [
              "[{'query': 'অনুপমের ভাষায় সুপুরুষ কাকে বলা হয়েছে?', 'answer': '(ঘ) শম্ভূনাথ'}]"
            ]
          },
          "metadata": {},
          "execution_count": 114
        }
      ]
    },
    {
      "cell_type": "markdown",
      "source": [
        "English Test Queries"
      ],
      "metadata": {
        "id": "-W00vjiPaUtp"
      }
    },
    {
      "cell_type": "code",
      "source": [
        "def test_english_queries():\n",
        "    english_queries = [\n",
        "        \"What is the age of Kalyani at the time of marriage?\",\n",
        "        \"Who is the real guardian of Anupom?\",\n",
        "        \"Who is considered a handsome man by Anupam?\"\n",
        "    ]\n",
        "    chat_history = []\n",
        "    for query in english_queries:\n",
        "        chat_history = query_system(query, chat_history)"
      ],
      "metadata": {
        "id": "vT7lF9LAaT0k"
      },
      "execution_count": 118,
      "outputs": []
    },
    {
      "cell_type": "code",
      "source": [
        "if __name__ == \"__main__\":\n",
        "    test_english_queries()"
      ],
      "metadata": {
        "colab": {
          "base_uri": "https://localhost:8080/"
        },
        "id": "vhkqmK9lab3f",
        "outputId": "43c4ab6b-8b97-4e16-ee77-3d81c59cdc9c"
      },
      "execution_count": 119,
      "outputs": [
        {
          "output_type": "stream",
          "name": "stdout",
          "text": [
            "Query: What is the age of Kalyani at the time of marriage?\n",
            "Answer: 15 years old\n",
            "Retrieved Context: [\"'অপরিচিতা' গল্পে 'মেবিযয়ে ়হইবেে নরা এ ভয় যার মনে নাই তার শাস্তির উপায় কী' উক্তিতে প্রকাশ পেয়েছে- [ব.বো.' ১৬] (ক) আগামী সময়ের ইঙ্গিত (খ) পরিবর্তিত সমাজব্যবস্থা (গ) শত্তবাব্ুরু সানহসািকথতা (ঘ) শত্বতাবুরু নিনর্বািকারথত্ব উত্তর:গ ব্যাখ্যা: মেয়ের বিয়ে নিয়ে শত্তুনাথ সেনের কোনো চিন্তা নেই তার কাছে সবচেয়ে গুরুত্বপূর্ণ হলো আত্মমর্যাদা তাই সাহসিকতার সাথে তিনি মেয়ের বিয়ে ভেঙে দেন ২৯\", '[রাজশাহী বোর্ড\\' ২০২২] ক. \\'রসনচশব্ৌদেরক অরি্থ \\'কী? খ. \\'মামা বিবাহঢুকি-য়াব খুশাি হডইলে়ন নিা \\'ত- কেেন? গ. মাতৃস্নেহের আধিক্যে \"পরনির্ভরশীল হইয়া মনুষ্যত্ব বিকাশের পথ হইতে দূরে সরিয়া যায় \" উদ্দীপকের এই মন্তব্যের সাদৃশ্যমূলক প্রভাব রয়েছে \\'অপরিচিতা\\' গল্পের অনুপম চরিত্রে- বুঝিয়ে লেখ ঘ. \"উদ্দীপকে বর্ণিত মাতৃস্নেহের আধিক্যে অনুপম চরিত্রের বিকাশ ব্যাহত হয়েছে ঠিকই কিন্তু গল্পের পরিণতিতে বৃত্তভাঙা ভিন্ন এক ব্যক্তি হিসেবে তাকে পাওয়া যায় \"- মন্তব্যটি তোমার মতামতসহ যাচাই কর', \"দীপু মেয়েটির ছবি দেখে মুগ্ধ হলেও তার চাচাকে কিছুই বলতে পারেননি ol দীপুর চাচার সঙ্গে 'অপরিচিতা' গল্পের কোন চরিত্রের মিল আছে? ক) হরিশের খ) মামার গ) শিক্ষকের ঘ) বিনুর 81 উক্ত চরিত্রে প্রাধান্য পেয়েছে - 1) দৌরাত্ম ||) হীনম্মন্যতা iii) লোভ নিচের কোনটি ঠিক? Fligii A1 @i Mg i, i @i ৫. অনুবপয়সম কতে বছরর? ক) পঁচিশ খ) ছাব্বিশ গ) সাতাশ ঘ) আটাশ শব্দাওর চ্ীকথা শব্অর্দথ ও েব্যারখ্যা গল্পের কথক চরিত্র অনুপমের আত্মসমালোচনা\", \"উদ্দীপকের শ্বশুর-শমাানশসিুকতডার় সিাথরে 'অপরিচিতা' গল্পের কোন উক্তমিিল টরয়িেছরে? (ক) আমাদের ঘরে যে মেয়ে আসিবে সে মাথা হেঁট করিয়াই আসিবে (খ) বেহাই সম্প্রদায়ের আর যাই থাক তেজ থাকাটা দোষের (গ) অপর পক্ষকে যে নাকাল হইতে হইবে, সেই কথা স্মরণ করিয়া মামার সঙ্গে মা একযোগে বিস্তর হাসিলেন (ঘ) ঠাট্টার সম্পর্ককে স্থায়ী করিবার ইচ্ছা আমার নাই উত্তর:ক 26 [H2S6 CN নিচের উদ্দীপকটি পড়ে ৩৬ ও ৩৭ নম্বর প্রশ্নের উত্তর দাও: শাওনের বিয়ে চূড়ান্ত হয় অন্যার সাথে\", 'ছেলেবেলায় অনুপমের চেহারা নিয়ে বিদ্রুপ করার সময় পণ্ডিতমশায় কোন দুটি ফুল ও ফলের সঙ্গে তুলনা করেছিলেন? [ঢাইউ.নিটব ২০ি১৯-.২০] (ক) বকুল ও ডুমুর (খ) পলওা আমশড়া (গ) পারওু লটলকন (ঘ) শিমুল ও মাকাল উত্তর: ঘ ২']\n",
            "Groundedness Score: 0.76\n",
            "\n",
            "Query: Who is the real guardian of Anupom?\n",
            "Answer: His Uncle\n",
            "Retrieved Context: [\"দীপু মেয়েটির ছবি দেখে মুগ্ধ হলেও তার চাচাকে কিছুই বলতে পারেননি ol দীপুর চাচার সঙ্গে 'অপরিচিতা' গল্পের কোন চরিত্রের মিল আছে? ক) হরিশের খ) মামার গ) শিক্ষকের ঘ) বিনুর 81 উক্ত চরিত্রে প্রাধান্য পেয়েছে - 1) দৌরাত্ম ||) হীনম্মন্যতা iii) লোভ নিচের কোনটি ঠিক? Fligii A1 @i Mg i, i @i ৫. অনুবপয়সম কতে বছরর? ক) পঁচিশ খ) ছাব্বিশ গ) সাতাশ ঘ) আটাশ শব্দাওর চ্ীকথা শব্অর্দথ ও েব্যারখ্যা গল্পের কথক চরিত্র অনুপমের আত্মসমালোচনা\", \"উদ্দীপকের শ্বশুর-শমাানশসিুকতডার় সিাথরে 'অপরিচিতা' গল্পের কোন উক্তমিিল টরয়িেছরে? (ক) আমাদের ঘরে যে মেয়ে আসিবে সে মাথা হেঁট করিয়াই আসিবে (খ) বেহাই সম্প্রদায়ের আর যাই থাক তেজ থাকাটা দোষের (গ) অপর পক্ষকে যে নাকাল হইতে হইবে, সেই কথা স্মরণ করিয়া মামার সঙ্গে মা একযোগে বিস্তর হাসিলেন (ঘ) ঠাট্টার সম্পর্ককে স্থায়ী করিবার ইচ্ছা আমার নাই উত্তর:ক 26 [H2S6 CN নিচের উদ্দীপকটি পড়ে ৩৬ ও ৩৭ নম্বর প্রশ্নের উত্তর দাও: শাওনের বিয়ে চূড়ান্ত হয় অন্যার সাথে\", \"'অপরিচিতা' গল্পে 'মেবিযয়ে ়হইবেে নরা এ ভয় যার মনে নাই তার শাস্তির উপায় কী' উক্তিতে প্রকাশ পেয়েছে- [ব.বো.' ১৬] (ক) আগামী সময়ের ইঙ্গিত (খ) পরিবর্তিত সমাজব্যবস্থা (গ) শত্তবাব্ুরু সানহসািকথতা (ঘ) শত্বতাবুরু নিনর্বািকারথত্ব উত্তর:গ ব্যাখ্যা: মেয়ের বিয়ে নিয়ে শত্তুনাথ সেনের কোনো চিন্তা নেই তার কাছে সবচেয়ে গুরুত্বপূর্ণ হলো আত্মমর্যাদা তাই সাহসিকতার সাথে তিনি মেয়ের বিয়ে ভেঙে দেন ২৯\", '[রাজশাহী বোর্ড\\' ২০২২] ক. \\'রসনচশব্ৌদেরক অরি্থ \\'কী? খ. \\'মামা বিবাহঢুকি-য়াব খুশাি হডইলে়ন নিা \\'ত- কেেন? গ. মাতৃস্নেহের আধিক্যে \"পরনির্ভরশীল হইয়া মনুষ্যত্ব বিকাশের পথ হইতে দূরে সরিয়া যায় \" উদ্দীপকের এই মন্তব্যের সাদৃশ্যমূলক প্রভাব রয়েছে \\'অপরিচিতা\\' গল্পের অনুপম চরিত্রে- বুঝিয়ে লেখ ঘ. \"উদ্দীপকে বর্ণিত মাতৃস্নেহের আধিক্যে অনুপম চরিত্রের বিকাশ ব্যাহত হয়েছে ঠিকই কিন্তু গল্পের পরিণতিতে বৃত্তভাঙা ভিন্ন এক ব্যক্তি হিসেবে তাকে পাওয়া যায় \"- মন্তব্যটি তোমার মতামতসহ যাচাই কর', 'এরা দুজনেই লোভের কারণে দুজন নারীকে অপমান করে এসব দিক বিচারে তাই বলা যায়, প্রশ্নোক্ত মন্তব্যটি যথার্থ 22 [H2S6 CN বোর্ড পরীক্ষার প্রশ্ন ১ \"সে নিজের চারদিকের সকলের চেয়ে অধিক- রজনীগন্ধার শুভ্র মঞ্জরির মতো সরল 33T উপরে দাড়াইয়া, যে গাছে ফুটিয়াছে সেই গাছকে সে একেবারে অতিক্রম করিয়া উঠিয়াছে\"- কে? [ঢা. বো. \\'২২] (ক) বিলাসী (খ) আতহ্াদী (গ) জমিলা (ঘ) কল্যাণী উত্তর: ঘ ২']\n",
            "Groundedness Score: 0.85\n",
            "\n"
          ]
        },
        {
          "output_type": "stream",
          "name": "stderr",
          "text": [
            "Some weights of the model checkpoint at deepset/xlm-roberta-large-squad2 were not used when initializing XLMRobertaForQuestionAnswering: ['roberta.pooler.dense.bias', 'roberta.pooler.dense.weight']\n",
            "- This IS expected if you are initializing XLMRobertaForQuestionAnswering from the checkpoint of a model trained on another task or with another architecture (e.g. initializing a BertForSequenceClassification model from a BertForPreTraining model).\n",
            "- This IS NOT expected if you are initializing XLMRobertaForQuestionAnswering from the checkpoint of a model that you expect to be exactly identical (initializing a BertForSequenceClassification model from a BertForSequenceClassification model).\n",
            "Device set to use cpu\n"
          ]
        },
        {
          "output_type": "stream",
          "name": "stdout",
          "text": [
            "Query: Who is considered a handsome man by Anupam?\n",
            "Answer: উত্তর পাওয়া যায়নি\n",
            "Retrieved Context: [\"দীপু মেয়েটির ছবি দেখে মুগ্ধ হলেও তার চাচাকে কিছুই বলতে পারেননি ol দীপুর চাচার সঙ্গে 'অপরিচিতা' গল্পের কোন চরিত্রের মিল আছে? ক) হরিশের খ) মামার গ) শিক্ষকের ঘ) বিনুর 81 উক্ত চরিত্রে প্রাধান্য পেয়েছে - 1) দৌরাত্ম ||) হীনম্মন্যতা iii) লোভ নিচের কোনটি ঠিক? Fligii A1 @i Mg i, i @i ৫. অনুবপয়সম কতে বছরর? ক) পঁচিশ খ) ছাব্বিশ গ) সাতাশ ঘ) আটাশ শব্দাওর চ্ীকথা শব্অর্দথ ও েব্যারখ্যা গল্পের কথক চরিত্র অনুপমের আত্মসমালোচনা\", '[রাজশাহী বোর্ড\\' ২০২২] ক. \\'রসনচশব্ৌদেরক অরি্থ \\'কী? খ. \\'মামা বিবাহঢুকি-য়াব খুশাি হডইলে়ন নিা \\'ত- কেেন? গ. মাতৃস্নেহের আধিক্যে \"পরনির্ভরশীল হইয়া মনুষ্যত্ব বিকাশের পথ হইতে দূরে সরিয়া যায় \" উদ্দীপকের এই মন্তব্যের সাদৃশ্যমূলক প্রভাব রয়েছে \\'অপরিচিতা\\' গল্পের অনুপম চরিত্রে- বুঝিয়ে লেখ ঘ. \"উদ্দীপকে বর্ণিত মাতৃস্নেহের আধিক্যে অনুপম চরিত্রের বিকাশ ব্যাহত হয়েছে ঠিকই কিন্তু গল্পের পরিণতিতে বৃত্তভাঙা ভিন্ন এক ব্যক্তি হিসেবে তাকে পাওয়া যায় \"- মন্তব্যটি তোমার মতামতসহ যাচাই কর', 'এরা দুজনেই লোভের কারণে দুজন নারীকে অপমান করে এসব দিক বিচারে তাই বলা যায়, প্রশ্নোক্ত মন্তব্যটি যথার্থ 22 [H2S6 CN বোর্ড পরীক্ষার প্রশ্ন ১ \"সে নিজের চারদিকের সকলের চেয়ে অধিক- রজনীগন্ধার শুভ্র মঞ্জরির মতো সরল 33T উপরে দাড়াইয়া, যে গাছে ফুটিয়াছে সেই গাছকে সে একেবারে অতিক্রম করিয়া উঠিয়াছে\"- কে? [ঢা. বো. \\'২২] (ক) বিলাসী (খ) আতহ্াদী (গ) জমিলা (ঘ) কল্যাণী উত্তর: ঘ ২', \"উদ্দীপকের শ্বশুর-শমাানশসিুকতডার় সিাথরে 'অপরিচিতা' গল্পের কোন উক্তমিিল টরয়িেছরে? (ক) আমাদের ঘরে যে মেয়ে আসিবে সে মাথা হেঁট করিয়াই আসিবে (খ) বেহাই সম্প্রদায়ের আর যাই থাক তেজ থাকাটা দোষের (গ) অপর পক্ষকে যে নাকাল হইতে হইবে, সেই কথা স্মরণ করিয়া মামার সঙ্গে মা একযোগে বিস্তর হাসিলেন (ঘ) ঠাট্টার সম্পর্ককে স্থায়ী করিবার ইচ্ছা আমার নাই উত্তর:ক 26 [H2S6 CN নিচের উদ্দীপকটি পড়ে ৩৬ ও ৩৭ নম্বর প্রশ্নের উত্তর দাও: শাওনের বিয়ে চূড়ান্ত হয় অন্যার সাথে\", 'ছেলেবেলায় অনুপমের চেহারা নিয়ে বিদ্রুপ করার সময় পণ্ডিতমশায় কোন দুটি ফুল ও ফলের সঙ্গে তুলনা করেছিলেন? [ঢাইউ.নিটব ২০ি১৯-.২০] (ক) বকুল ও ডুমুর (খ) পলওা আমশড়া (গ) পারওু লটলকন (ঘ) শিমুল ও মাকাল উত্তর: ঘ ২']\n",
            "Groundedness Score: 0.84\n",
            "\n"
          ]
        }
      ]
    },
    {
      "cell_type": "markdown",
      "source": [
        "**Conversation API **"
      ],
      "metadata": {
        "id": "4i-EoUPs7eNp"
      }
    },
    {
      "cell_type": "code",
      "source": [
        "!pip install fastapi uvicorn nest-asyncio pyngrok\n"
      ],
      "metadata": {
        "colab": {
          "base_uri": "https://localhost:8080/"
        },
        "id": "775GuJnLJdIF",
        "outputId": "abdc6e3c-b333-4f4e-949a-2ccf615f4e34"
      },
      "execution_count": 66,
      "outputs": [
        {
          "output_type": "stream",
          "name": "stdout",
          "text": [
            "Requirement already satisfied: fastapi in /usr/local/lib/python3.11/dist-packages (0.116.1)\n",
            "Requirement already satisfied: uvicorn in /usr/local/lib/python3.11/dist-packages (0.35.0)\n",
            "Requirement already satisfied: nest-asyncio in /usr/local/lib/python3.11/dist-packages (1.6.0)\n",
            "Requirement already satisfied: pyngrok in /usr/local/lib/python3.11/dist-packages (7.2.12)\n",
            "Requirement already satisfied: starlette<0.48.0,>=0.40.0 in /usr/local/lib/python3.11/dist-packages (from fastapi) (0.47.2)\n",
            "Requirement already satisfied: pydantic!=1.8,!=1.8.1,!=2.0.0,!=2.0.1,!=2.1.0,<3.0.0,>=1.7.4 in /usr/local/lib/python3.11/dist-packages (from fastapi) (2.11.7)\n",
            "Requirement already satisfied: typing-extensions>=4.8.0 in /usr/local/lib/python3.11/dist-packages (from fastapi) (4.14.1)\n",
            "Requirement already satisfied: click>=7.0 in /usr/local/lib/python3.11/dist-packages (from uvicorn) (8.2.1)\n",
            "Requirement already satisfied: h11>=0.8 in /usr/local/lib/python3.11/dist-packages (from uvicorn) (0.16.0)\n",
            "Requirement already satisfied: PyYAML>=5.1 in /usr/local/lib/python3.11/dist-packages (from pyngrok) (6.0.2)\n",
            "Requirement already satisfied: annotated-types>=0.6.0 in /usr/local/lib/python3.11/dist-packages (from pydantic!=1.8,!=1.8.1,!=2.0.0,!=2.0.1,!=2.1.0,<3.0.0,>=1.7.4->fastapi) (0.7.0)\n",
            "Requirement already satisfied: pydantic-core==2.33.2 in /usr/local/lib/python3.11/dist-packages (from pydantic!=1.8,!=1.8.1,!=2.0.0,!=2.0.1,!=2.1.0,<3.0.0,>=1.7.4->fastapi) (2.33.2)\n",
            "Requirement already satisfied: typing-inspection>=0.4.0 in /usr/local/lib/python3.11/dist-packages (from pydantic!=1.8,!=1.8.1,!=2.0.0,!=2.0.1,!=2.1.0,<3.0.0,>=1.7.4->fastapi) (0.4.1)\n",
            "Requirement already satisfied: anyio<5,>=3.6.2 in /usr/local/lib/python3.11/dist-packages (from starlette<0.48.0,>=0.40.0->fastapi) (4.9.0)\n",
            "Requirement already satisfied: idna>=2.8 in /usr/local/lib/python3.11/dist-packages (from anyio<5,>=3.6.2->starlette<0.48.0,>=0.40.0->fastapi) (3.10)\n",
            "Requirement already satisfied: sniffio>=1.1 in /usr/local/lib/python3.11/dist-packages (from anyio<5,>=3.6.2->starlette<0.48.0,>=0.40.0->fastapi) (1.3.1)\n"
          ]
        }
      ]
    },
    {
      "cell_type": "code",
      "source": [
        "from google.colab import userdata\n",
        "try:\n",
        "    ngrok_token = userdata.get('NGROK_AUTH_TOKEN')\n",
        "    print(\"Successfully retrieved NGROK_AUTH_TOKEN\")\n",
        "except Exception as e:\n",
        "    print(f\"Error retrieving NGROK_AUTH_TOKEN: {e}\")"
      ],
      "metadata": {
        "colab": {
          "base_uri": "https://localhost:8080/"
        },
        "id": "LoYBbag5S3u5",
        "outputId": "88db691a-ddb9-4a58-d9dd-7f1920fbd919"
      },
      "execution_count": 90,
      "outputs": [
        {
          "output_type": "stream",
          "name": "stdout",
          "text": [
            "Successfully retrieved NGROK_AUTH_TOKEN\n"
          ]
        }
      ]
    }
  ]
}